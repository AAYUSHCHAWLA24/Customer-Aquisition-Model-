{
 "cells": [
  {
   "cell_type": "code",
   "execution_count": 1,
   "id": "b021ae58",
   "metadata": {},
   "outputs": [],
   "source": [
    "import pandas as pd\n",
    "import numpy as np\n",
    "import seaborn as sns \n",
    "import matplotlib.pyplot as plt\n",
    "%matplotlib inline"
   ]
  },
  {
   "cell_type": "code",
   "execution_count": 2,
   "id": "146dbf9d",
   "metadata": {},
   "outputs": [],
   "source": [
    "df=pd.read_excel(r\"E:\\PYTHON\\DATA SCIENCE PROJECT\\Customer acquistion\\Data.xlsx\")"
   ]
  },
  {
   "cell_type": "code",
   "execution_count": 3,
   "id": "f9b6f979",
   "metadata": {},
   "outputs": [
    {
     "data": {
      "text/html": [
       "<div>\n",
       "<style scoped>\n",
       "    .dataframe tbody tr th:only-of-type {\n",
       "        vertical-align: middle;\n",
       "    }\n",
       "\n",
       "    .dataframe tbody tr th {\n",
       "        vertical-align: top;\n",
       "    }\n",
       "\n",
       "    .dataframe thead th {\n",
       "        text-align: right;\n",
       "    }\n",
       "</style>\n",
       "<table border=\"1\" class=\"dataframe\">\n",
       "  <thead>\n",
       "    <tr style=\"text-align: right;\">\n",
       "      <th></th>\n",
       "      <th>Unnamed: 0</th>\n",
       "      <th>Agent_id</th>\n",
       "      <th>status</th>\n",
       "      <th>lost_reason</th>\n",
       "      <th>budget</th>\n",
       "      <th>lease</th>\n",
       "      <th>movein</th>\n",
       "      <th>source</th>\n",
       "      <th>source_city</th>\n",
       "      <th>source_country</th>\n",
       "      <th>utm_source</th>\n",
       "      <th>utm_medium</th>\n",
       "      <th>des_city</th>\n",
       "      <th>des_country</th>\n",
       "      <th>room_type</th>\n",
       "      <th>lead_id</th>\n",
       "    </tr>\n",
       "  </thead>\n",
       "  <tbody>\n",
       "    <tr>\n",
       "      <th>0</th>\n",
       "      <td>0</td>\n",
       "      <td>1deba9e96f404694373de9749ddd1ca8aa7bb823145a6f...</td>\n",
       "      <td>LOST</td>\n",
       "      <td>Not responding</td>\n",
       "      <td>NaN</td>\n",
       "      <td>NaN</td>\n",
       "      <td>NaT</td>\n",
       "      <td>9b2d5b4678781e53038e91ea5324530a03f27dc1d0e5f6...</td>\n",
       "      <td>9b2d5b4678781e53038e91ea5324530a03f27dc1d0e5f6...</td>\n",
       "      <td>9b2d5b4678781e53038e91ea5324530a03f27dc1d0e5f6...</td>\n",
       "      <td>3d59f7548e1af2151b64135003ce63c0a484c26b9b8b16...</td>\n",
       "      <td>268ad70eb5bc4737a2ae28162cbca30118cc94520e49ef...</td>\n",
       "      <td>ecc0e7dc084f141b29479058967d0bc07dee25d9690a98...</td>\n",
       "      <td>8d23a6e37e0a6431a8f1b43a91026dcff51170a89a6512...</td>\n",
       "      <td>NaN</td>\n",
       "      <td>cd5dc0d9393f3980d11d4ba6f88f8110c2b7a7f7796307...</td>\n",
       "    </tr>\n",
       "    <tr>\n",
       "      <th>1</th>\n",
       "      <td>1</td>\n",
       "      <td>299ae77a4ef350ae0dd37d6bba1c002d03444fb1edb236...</td>\n",
       "      <td>LOST</td>\n",
       "      <td>Low budget</td>\n",
       "      <td>NaN</td>\n",
       "      <td>NaN</td>\n",
       "      <td>NaT</td>\n",
       "      <td>9b2d5b4678781e53038e91ea5324530a03f27dc1d0e5f6...</td>\n",
       "      <td>9b2d5b4678781e53038e91ea5324530a03f27dc1d0e5f6...</td>\n",
       "      <td>9b2d5b4678781e53038e91ea5324530a03f27dc1d0e5f6...</td>\n",
       "      <td>3d59f7548e1af2151b64135003ce63c0a484c26b9b8b16...</td>\n",
       "      <td>268ad70eb5bc4737a2ae28162cbca30118cc94520e49ef...</td>\n",
       "      <td>5372372f3bf5896820cb2819300c3e681820d82c6efc54...</td>\n",
       "      <td>8d23a6e37e0a6431a8f1b43a91026dcff51170a89a6512...</td>\n",
       "      <td>NaN</td>\n",
       "      <td>b94693673a5f7178d1b114e4004ad52377d3244dd24a3d...</td>\n",
       "    </tr>\n",
       "    <tr>\n",
       "      <th>2</th>\n",
       "      <td>2</td>\n",
       "      <td>c213697430c006013012dd2aca82dd9732aa0a1a6bca13...</td>\n",
       "      <td>LOST</td>\n",
       "      <td>Not responding</td>\n",
       "      <td>£121 - £180 Per Week</td>\n",
       "      <td>Full Year Course Stay 40 - 44 weeks</td>\n",
       "      <td>2022-08-31</td>\n",
       "      <td>7aae3e886e89fc1187a5c47d6cea1c22998ee610ade1f2...</td>\n",
       "      <td>9b8cc3c63cdf447e463c11544924bf027945cbd29675f7...</td>\n",
       "      <td>e09e10e67812e9d236ad900e5d46b4308fc62f5d69446a...</td>\n",
       "      <td>bbdefa2950f49882f295b1285d4fa9dec45fc4144bfb07...</td>\n",
       "      <td>09076eb7665d1fb9389c7c4517fee0b00e43092eb34821...</td>\n",
       "      <td>11ab03a1a8c367191355c152f39fe28cae5e426fce49ef...</td>\n",
       "      <td>8d23a6e37e0a6431a8f1b43a91026dcff51170a89a6512...</td>\n",
       "      <td>Ensuite</td>\n",
       "      <td>96ea4e2bf04496c044745938c0299c264c3f4ba079e572...</td>\n",
       "    </tr>\n",
       "    <tr>\n",
       "      <th>3</th>\n",
       "      <td>3</td>\n",
       "      <td>eac9815a500f908736d303e23aa227f0957177b0e6756b...</td>\n",
       "      <td>LOST</td>\n",
       "      <td>Low budget</td>\n",
       "      <td>0-0</td>\n",
       "      <td>0</td>\n",
       "      <td>NaT</td>\n",
       "      <td>ba2d0a29556ac20f86f45e4543c0825428cba33fd7a9ea...</td>\n",
       "      <td>a5f0d2d08eb0592087e3a3a2f9c1ba2c67cc30f2efd2bd...</td>\n",
       "      <td>e09e10e67812e9d236ad900e5d46b4308fc62f5d69446a...</td>\n",
       "      <td>bbdefa2950f49882f295b1285d4fa9dec45fc4144bfb07...</td>\n",
       "      <td>09076eb7665d1fb9389c7c4517fee0b00e43092eb34821...</td>\n",
       "      <td>19372fa44c57a01c37a5a8418779ca3d99b0b59731fb35...</td>\n",
       "      <td>8d23a6e37e0a6431a8f1b43a91026dcff51170a89a6512...</td>\n",
       "      <td>NaN</td>\n",
       "      <td>1d2b34d8add02a182a4129023766ca4585a8ddced0e5b3...</td>\n",
       "    </tr>\n",
       "    <tr>\n",
       "      <th>4</th>\n",
       "      <td>4</td>\n",
       "      <td>1deba9e96f404694373de9749ddd1ca8aa7bb823145a6f...</td>\n",
       "      <td>LOST</td>\n",
       "      <td>Junk lead</td>\n",
       "      <td>NaN</td>\n",
       "      <td>NaN</td>\n",
       "      <td>NaT</td>\n",
       "      <td>9b2d5b4678781e53038e91ea5324530a03f27dc1d0e5f6...</td>\n",
       "      <td>9b2d5b4678781e53038e91ea5324530a03f27dc1d0e5f6...</td>\n",
       "      <td>9b2d5b4678781e53038e91ea5324530a03f27dc1d0e5f6...</td>\n",
       "      <td>3d59f7548e1af2151b64135003ce63c0a484c26b9b8b16...</td>\n",
       "      <td>268ad70eb5bc4737a2ae28162cbca30118cc94520e49ef...</td>\n",
       "      <td>9b2d5b4678781e53038e91ea5324530a03f27dc1d0e5f6...</td>\n",
       "      <td>9b2d5b4678781e53038e91ea5324530a03f27dc1d0e5f6...</td>\n",
       "      <td>NaN</td>\n",
       "      <td>fc10fffd29cfbe93c55158fb47752a7501c211d253468c...</td>\n",
       "    </tr>\n",
       "    <tr>\n",
       "      <th>...</th>\n",
       "      <td>...</td>\n",
       "      <td>...</td>\n",
       "      <td>...</td>\n",
       "      <td>...</td>\n",
       "      <td>...</td>\n",
       "      <td>...</td>\n",
       "      <td>...</td>\n",
       "      <td>...</td>\n",
       "      <td>...</td>\n",
       "      <td>...</td>\n",
       "      <td>...</td>\n",
       "      <td>...</td>\n",
       "      <td>...</td>\n",
       "      <td>...</td>\n",
       "      <td>...</td>\n",
       "      <td>...</td>\n",
       "    </tr>\n",
       "    <tr>\n",
       "      <th>46603</th>\n",
       "      <td>46603</td>\n",
       "      <td>2306878a9ad9b57686cd623dd285aaa9b25afdf627f651...</td>\n",
       "      <td>LOST</td>\n",
       "      <td>Low availability</td>\n",
       "      <td>£60 - £120 Per week</td>\n",
       "      <td>Complete Education Year Stay 50 - 52 weeks</td>\n",
       "      <td>2022-09-01</td>\n",
       "      <td>9b2d5b4678781e53038e91ea5324530a03f27dc1d0e5f6...</td>\n",
       "      <td>7d1550b844ff586a6023216c06263105eed0a849a2a1f6...</td>\n",
       "      <td>8da82000ef9c4468ba47362a924b895e40662fed846942...</td>\n",
       "      <td>bbdefa2950f49882f295b1285d4fa9dec45fc4144bfb07...</td>\n",
       "      <td>09076eb7665d1fb9389c7c4517fee0b00e43092eb34821...</td>\n",
       "      <td>13d4b96b6ee361b737e22404aeecca45f322ba7d4c2c42...</td>\n",
       "      <td>8d23a6e37e0a6431a8f1b43a91026dcff51170a89a6512...</td>\n",
       "      <td>Studio</td>\n",
       "      <td>1aaa4a4a9092e4c0eabf958ed9aea59c50d8ea3f08f691...</td>\n",
       "    </tr>\n",
       "    <tr>\n",
       "      <th>46604</th>\n",
       "      <td>46604</td>\n",
       "      <td>327ec29056cc47c24bf922f7dc0f78261dad5c726d7353...</td>\n",
       "      <td>LOST</td>\n",
       "      <td>Semester stay</td>\n",
       "      <td>£60 - £120 Per week</td>\n",
       "      <td>Summer/Short Stay 8 - 12 weeks</td>\n",
       "      <td>2022-09-29</td>\n",
       "      <td>9b2d5b4678781e53038e91ea5324530a03f27dc1d0e5f6...</td>\n",
       "      <td>9f2ba6981e36ea0fca6c16f42e6413d788d2a7499b8b7f...</td>\n",
       "      <td>8da82000ef9c4468ba47362a924b895e40662fed846942...</td>\n",
       "      <td>bbdefa2950f49882f295b1285d4fa9dec45fc4144bfb07...</td>\n",
       "      <td>09076eb7665d1fb9389c7c4517fee0b00e43092eb34821...</td>\n",
       "      <td>998c18dc0e513ab0035c7b858e3780bbbead88695a15de...</td>\n",
       "      <td>8d23a6e37e0a6431a8f1b43a91026dcff51170a89a6512...</td>\n",
       "      <td>Studio</td>\n",
       "      <td>1f90dbad4873cb9673ff3c7ec69fbac4289181453c6cea...</td>\n",
       "    </tr>\n",
       "    <tr>\n",
       "      <th>46605</th>\n",
       "      <td>46605</td>\n",
       "      <td>1134c0a7d44fdae1afd7f1f64e2789496784095ca0a050...</td>\n",
       "      <td>LOST</td>\n",
       "      <td>Low availability</td>\n",
       "      <td>£241 - £300 Per week</td>\n",
       "      <td>Full Year Course Stay 40 - 44 weeks</td>\n",
       "      <td>2022-09-20</td>\n",
       "      <td>7aae3e886e89fc1187a5c47d6cea1c22998ee610ade1f2...</td>\n",
       "      <td>7d1550b844ff586a6023216c06263105eed0a849a2a1f6...</td>\n",
       "      <td>8da82000ef9c4468ba47362a924b895e40662fed846942...</td>\n",
       "      <td>bbdefa2950f49882f295b1285d4fa9dec45fc4144bfb07...</td>\n",
       "      <td>09076eb7665d1fb9389c7c4517fee0b00e43092eb34821...</td>\n",
       "      <td>ecc0e7dc084f141b29479058967d0bc07dee25d9690a98...</td>\n",
       "      <td>8d23a6e37e0a6431a8f1b43a91026dcff51170a89a6512...</td>\n",
       "      <td>Studio</td>\n",
       "      <td>d9e0f455b68a6573544ffac32292541a510fe2daffe2bb...</td>\n",
       "    </tr>\n",
       "    <tr>\n",
       "      <th>46606</th>\n",
       "      <td>46606</td>\n",
       "      <td>8b8b029f1142f5cbc825aa6cbee01406c915c6b055db79...</td>\n",
       "      <td>LOST</td>\n",
       "      <td>Low availability</td>\n",
       "      <td>1108</td>\n",
       "      <td>294</td>\n",
       "      <td>2022-08-30</td>\n",
       "      <td>d684761c17c11590f6e2525b48141cb2c0c6f2be5df4e2...</td>\n",
       "      <td>e9c722cbefc2f055ae60b4e2cbe73a2d99537eab0c37f3...</td>\n",
       "      <td>b936ee09e20b3b2234907cde349cda1c1a5327c4a486bf...</td>\n",
       "      <td>7f3fa48ca885678134842fa7456f3ece53a97f843b6101...</td>\n",
       "      <td>abb8e2badd5b6265c3237170cc599257a4f566706715d2...</td>\n",
       "      <td>ecc0e7dc084f141b29479058967d0bc07dee25d9690a98...</td>\n",
       "      <td>8d23a6e37e0a6431a8f1b43a91026dcff51170a89a6512...</td>\n",
       "      <td>NaN</td>\n",
       "      <td>1f90dbad4873cb9673ff3c7ec69fbac4289181453c6cea...</td>\n",
       "    </tr>\n",
       "    <tr>\n",
       "      <th>46607</th>\n",
       "      <td>46607</td>\n",
       "      <td>1ea65ea38f2f574b3875ba895e4ff76b284b7725041612...</td>\n",
       "      <td>LOST</td>\n",
       "      <td>Low availability</td>\n",
       "      <td>£181 - £240 Per Week</td>\n",
       "      <td>Full Year Course Stay 40 - 44 weeks</td>\n",
       "      <td>2022-09-01</td>\n",
       "      <td>7aae3e886e89fc1187a5c47d6cea1c22998ee610ade1f2...</td>\n",
       "      <td>1496126b7015defbc3b1d129a46096a5c135075aff2add...</td>\n",
       "      <td>e09e10e67812e9d236ad900e5d46b4308fc62f5d69446a...</td>\n",
       "      <td>bbdefa2950f49882f295b1285d4fa9dec45fc4144bfb07...</td>\n",
       "      <td>09076eb7665d1fb9389c7c4517fee0b00e43092eb34821...</td>\n",
       "      <td>618738f7143c9b43a98a6b42d743a6595069a9b4dcf42d...</td>\n",
       "      <td>8d23a6e37e0a6431a8f1b43a91026dcff51170a89a6512...</td>\n",
       "      <td>Studio</td>\n",
       "      <td>7520a8abba2b44d7f37c0ddbe5f7f3d87540b2b7a670e9...</td>\n",
       "    </tr>\n",
       "  </tbody>\n",
       "</table>\n",
       "<p>46608 rows × 16 columns</p>\n",
       "</div>"
      ],
      "text/plain": [
       "       Unnamed: 0                                           Agent_id status  \\\n",
       "0               0  1deba9e96f404694373de9749ddd1ca8aa7bb823145a6f...   LOST   \n",
       "1               1  299ae77a4ef350ae0dd37d6bba1c002d03444fb1edb236...   LOST   \n",
       "2               2  c213697430c006013012dd2aca82dd9732aa0a1a6bca13...   LOST   \n",
       "3               3  eac9815a500f908736d303e23aa227f0957177b0e6756b...   LOST   \n",
       "4               4  1deba9e96f404694373de9749ddd1ca8aa7bb823145a6f...   LOST   \n",
       "...           ...                                                ...    ...   \n",
       "46603       46603  2306878a9ad9b57686cd623dd285aaa9b25afdf627f651...   LOST   \n",
       "46604       46604  327ec29056cc47c24bf922f7dc0f78261dad5c726d7353...   LOST   \n",
       "46605       46605  1134c0a7d44fdae1afd7f1f64e2789496784095ca0a050...   LOST   \n",
       "46606       46606  8b8b029f1142f5cbc825aa6cbee01406c915c6b055db79...   LOST   \n",
       "46607       46607  1ea65ea38f2f574b3875ba895e4ff76b284b7725041612...   LOST   \n",
       "\n",
       "            lost_reason                budget  \\\n",
       "0        Not responding                   NaN   \n",
       "1            Low budget                   NaN   \n",
       "2        Not responding  £121 - £180 Per Week   \n",
       "3            Low budget                   0-0   \n",
       "4             Junk lead                   NaN   \n",
       "...                 ...                   ...   \n",
       "46603  Low availability   £60 - £120 Per week   \n",
       "46604     Semester stay   £60 - £120 Per week   \n",
       "46605  Low availability  £241 - £300 Per week   \n",
       "46606  Low availability                  1108   \n",
       "46607  Low availability  £181 - £240 Per Week   \n",
       "\n",
       "                                            lease     movein  \\\n",
       "0                                             NaN        NaT   \n",
       "1                                             NaN        NaT   \n",
       "2             Full Year Course Stay 40 - 44 weeks 2022-08-31   \n",
       "3                                               0        NaT   \n",
       "4                                             NaN        NaT   \n",
       "...                                           ...        ...   \n",
       "46603  Complete Education Year Stay 50 - 52 weeks 2022-09-01   \n",
       "46604              Summer/Short Stay 8 - 12 weeks 2022-09-29   \n",
       "46605         Full Year Course Stay 40 - 44 weeks 2022-09-20   \n",
       "46606                                         294 2022-08-30   \n",
       "46607         Full Year Course Stay 40 - 44 weeks 2022-09-01   \n",
       "\n",
       "                                                  source  \\\n",
       "0      9b2d5b4678781e53038e91ea5324530a03f27dc1d0e5f6...   \n",
       "1      9b2d5b4678781e53038e91ea5324530a03f27dc1d0e5f6...   \n",
       "2      7aae3e886e89fc1187a5c47d6cea1c22998ee610ade1f2...   \n",
       "3      ba2d0a29556ac20f86f45e4543c0825428cba33fd7a9ea...   \n",
       "4      9b2d5b4678781e53038e91ea5324530a03f27dc1d0e5f6...   \n",
       "...                                                  ...   \n",
       "46603  9b2d5b4678781e53038e91ea5324530a03f27dc1d0e5f6...   \n",
       "46604  9b2d5b4678781e53038e91ea5324530a03f27dc1d0e5f6...   \n",
       "46605  7aae3e886e89fc1187a5c47d6cea1c22998ee610ade1f2...   \n",
       "46606  d684761c17c11590f6e2525b48141cb2c0c6f2be5df4e2...   \n",
       "46607  7aae3e886e89fc1187a5c47d6cea1c22998ee610ade1f2...   \n",
       "\n",
       "                                             source_city  \\\n",
       "0      9b2d5b4678781e53038e91ea5324530a03f27dc1d0e5f6...   \n",
       "1      9b2d5b4678781e53038e91ea5324530a03f27dc1d0e5f6...   \n",
       "2      9b8cc3c63cdf447e463c11544924bf027945cbd29675f7...   \n",
       "3      a5f0d2d08eb0592087e3a3a2f9c1ba2c67cc30f2efd2bd...   \n",
       "4      9b2d5b4678781e53038e91ea5324530a03f27dc1d0e5f6...   \n",
       "...                                                  ...   \n",
       "46603  7d1550b844ff586a6023216c06263105eed0a849a2a1f6...   \n",
       "46604  9f2ba6981e36ea0fca6c16f42e6413d788d2a7499b8b7f...   \n",
       "46605  7d1550b844ff586a6023216c06263105eed0a849a2a1f6...   \n",
       "46606  e9c722cbefc2f055ae60b4e2cbe73a2d99537eab0c37f3...   \n",
       "46607  1496126b7015defbc3b1d129a46096a5c135075aff2add...   \n",
       "\n",
       "                                          source_country  \\\n",
       "0      9b2d5b4678781e53038e91ea5324530a03f27dc1d0e5f6...   \n",
       "1      9b2d5b4678781e53038e91ea5324530a03f27dc1d0e5f6...   \n",
       "2      e09e10e67812e9d236ad900e5d46b4308fc62f5d69446a...   \n",
       "3      e09e10e67812e9d236ad900e5d46b4308fc62f5d69446a...   \n",
       "4      9b2d5b4678781e53038e91ea5324530a03f27dc1d0e5f6...   \n",
       "...                                                  ...   \n",
       "46603  8da82000ef9c4468ba47362a924b895e40662fed846942...   \n",
       "46604  8da82000ef9c4468ba47362a924b895e40662fed846942...   \n",
       "46605  8da82000ef9c4468ba47362a924b895e40662fed846942...   \n",
       "46606  b936ee09e20b3b2234907cde349cda1c1a5327c4a486bf...   \n",
       "46607  e09e10e67812e9d236ad900e5d46b4308fc62f5d69446a...   \n",
       "\n",
       "                                              utm_source  \\\n",
       "0      3d59f7548e1af2151b64135003ce63c0a484c26b9b8b16...   \n",
       "1      3d59f7548e1af2151b64135003ce63c0a484c26b9b8b16...   \n",
       "2      bbdefa2950f49882f295b1285d4fa9dec45fc4144bfb07...   \n",
       "3      bbdefa2950f49882f295b1285d4fa9dec45fc4144bfb07...   \n",
       "4      3d59f7548e1af2151b64135003ce63c0a484c26b9b8b16...   \n",
       "...                                                  ...   \n",
       "46603  bbdefa2950f49882f295b1285d4fa9dec45fc4144bfb07...   \n",
       "46604  bbdefa2950f49882f295b1285d4fa9dec45fc4144bfb07...   \n",
       "46605  bbdefa2950f49882f295b1285d4fa9dec45fc4144bfb07...   \n",
       "46606  7f3fa48ca885678134842fa7456f3ece53a97f843b6101...   \n",
       "46607  bbdefa2950f49882f295b1285d4fa9dec45fc4144bfb07...   \n",
       "\n",
       "                                              utm_medium  \\\n",
       "0      268ad70eb5bc4737a2ae28162cbca30118cc94520e49ef...   \n",
       "1      268ad70eb5bc4737a2ae28162cbca30118cc94520e49ef...   \n",
       "2      09076eb7665d1fb9389c7c4517fee0b00e43092eb34821...   \n",
       "3      09076eb7665d1fb9389c7c4517fee0b00e43092eb34821...   \n",
       "4      268ad70eb5bc4737a2ae28162cbca30118cc94520e49ef...   \n",
       "...                                                  ...   \n",
       "46603  09076eb7665d1fb9389c7c4517fee0b00e43092eb34821...   \n",
       "46604  09076eb7665d1fb9389c7c4517fee0b00e43092eb34821...   \n",
       "46605  09076eb7665d1fb9389c7c4517fee0b00e43092eb34821...   \n",
       "46606  abb8e2badd5b6265c3237170cc599257a4f566706715d2...   \n",
       "46607  09076eb7665d1fb9389c7c4517fee0b00e43092eb34821...   \n",
       "\n",
       "                                                des_city  \\\n",
       "0      ecc0e7dc084f141b29479058967d0bc07dee25d9690a98...   \n",
       "1      5372372f3bf5896820cb2819300c3e681820d82c6efc54...   \n",
       "2      11ab03a1a8c367191355c152f39fe28cae5e426fce49ef...   \n",
       "3      19372fa44c57a01c37a5a8418779ca3d99b0b59731fb35...   \n",
       "4      9b2d5b4678781e53038e91ea5324530a03f27dc1d0e5f6...   \n",
       "...                                                  ...   \n",
       "46603  13d4b96b6ee361b737e22404aeecca45f322ba7d4c2c42...   \n",
       "46604  998c18dc0e513ab0035c7b858e3780bbbead88695a15de...   \n",
       "46605  ecc0e7dc084f141b29479058967d0bc07dee25d9690a98...   \n",
       "46606  ecc0e7dc084f141b29479058967d0bc07dee25d9690a98...   \n",
       "46607  618738f7143c9b43a98a6b42d743a6595069a9b4dcf42d...   \n",
       "\n",
       "                                             des_country room_type  \\\n",
       "0      8d23a6e37e0a6431a8f1b43a91026dcff51170a89a6512...       NaN   \n",
       "1      8d23a6e37e0a6431a8f1b43a91026dcff51170a89a6512...       NaN   \n",
       "2      8d23a6e37e0a6431a8f1b43a91026dcff51170a89a6512...   Ensuite   \n",
       "3      8d23a6e37e0a6431a8f1b43a91026dcff51170a89a6512...       NaN   \n",
       "4      9b2d5b4678781e53038e91ea5324530a03f27dc1d0e5f6...       NaN   \n",
       "...                                                  ...       ...   \n",
       "46603  8d23a6e37e0a6431a8f1b43a91026dcff51170a89a6512...    Studio   \n",
       "46604  8d23a6e37e0a6431a8f1b43a91026dcff51170a89a6512...    Studio   \n",
       "46605  8d23a6e37e0a6431a8f1b43a91026dcff51170a89a6512...    Studio   \n",
       "46606  8d23a6e37e0a6431a8f1b43a91026dcff51170a89a6512...       NaN   \n",
       "46607  8d23a6e37e0a6431a8f1b43a91026dcff51170a89a6512...    Studio   \n",
       "\n",
       "                                                 lead_id  \n",
       "0      cd5dc0d9393f3980d11d4ba6f88f8110c2b7a7f7796307...  \n",
       "1      b94693673a5f7178d1b114e4004ad52377d3244dd24a3d...  \n",
       "2      96ea4e2bf04496c044745938c0299c264c3f4ba079e572...  \n",
       "3      1d2b34d8add02a182a4129023766ca4585a8ddced0e5b3...  \n",
       "4      fc10fffd29cfbe93c55158fb47752a7501c211d253468c...  \n",
       "...                                                  ...  \n",
       "46603  1aaa4a4a9092e4c0eabf958ed9aea59c50d8ea3f08f691...  \n",
       "46604  1f90dbad4873cb9673ff3c7ec69fbac4289181453c6cea...  \n",
       "46605  d9e0f455b68a6573544ffac32292541a510fe2daffe2bb...  \n",
       "46606  1f90dbad4873cb9673ff3c7ec69fbac4289181453c6cea...  \n",
       "46607  7520a8abba2b44d7f37c0ddbe5f7f3d87540b2b7a670e9...  \n",
       "\n",
       "[46608 rows x 16 columns]"
      ]
     },
     "execution_count": 3,
     "metadata": {},
     "output_type": "execute_result"
    }
   ],
   "source": [
    "df"
   ]
  },
  {
   "cell_type": "code",
   "execution_count": 4,
   "id": "e3333e71",
   "metadata": {},
   "outputs": [
    {
     "name": "stdout",
     "output_type": "stream",
     "text": [
      "<class 'pandas.core.frame.DataFrame'>\n",
      "RangeIndex: 46608 entries, 0 to 46607\n",
      "Data columns (total 16 columns):\n",
      " #   Column          Non-Null Count  Dtype         \n",
      "---  ------          --------------  -----         \n",
      " 0   Unnamed: 0      46608 non-null  int64         \n",
      " 1   Agent_id        46608 non-null  object        \n",
      " 2   status          46608 non-null  object        \n",
      " 3   lost_reason     43244 non-null  object        \n",
      " 4   budget          42908 non-null  object        \n",
      " 5   lease           44267 non-null  object        \n",
      " 6   movein          32970 non-null  datetime64[ns]\n",
      " 7   source          46608 non-null  object        \n",
      " 8   source_city     46608 non-null  object        \n",
      " 9   source_country  46608 non-null  object        \n",
      " 10  utm_source      46608 non-null  object        \n",
      " 11  utm_medium      46608 non-null  object        \n",
      " 12  des_city        46608 non-null  object        \n",
      " 13  des_country     46608 non-null  object        \n",
      " 14  room_type       23061 non-null  object        \n",
      " 15  lead_id         46608 non-null  object        \n",
      "dtypes: datetime64[ns](1), int64(1), object(14)\n",
      "memory usage: 5.7+ MB\n"
     ]
    }
   ],
   "source": [
    "df.info()"
   ]
  },
  {
   "cell_type": "code",
   "execution_count": 5,
   "id": "defd0223",
   "metadata": {},
   "outputs": [
    {
     "data": {
      "text/html": [
       "<div>\n",
       "<style scoped>\n",
       "    .dataframe tbody tr th:only-of-type {\n",
       "        vertical-align: middle;\n",
       "    }\n",
       "\n",
       "    .dataframe tbody tr th {\n",
       "        vertical-align: top;\n",
       "    }\n",
       "\n",
       "    .dataframe thead th {\n",
       "        text-align: right;\n",
       "    }\n",
       "</style>\n",
       "<table border=\"1\" class=\"dataframe\">\n",
       "  <thead>\n",
       "    <tr style=\"text-align: right;\">\n",
       "      <th></th>\n",
       "      <th>Unnamed: 0</th>\n",
       "    </tr>\n",
       "  </thead>\n",
       "  <tbody>\n",
       "    <tr>\n",
       "      <th>count</th>\n",
       "      <td>46608.00000</td>\n",
       "    </tr>\n",
       "    <tr>\n",
       "      <th>mean</th>\n",
       "      <td>23303.50000</td>\n",
       "    </tr>\n",
       "    <tr>\n",
       "      <th>std</th>\n",
       "      <td>13454.71501</td>\n",
       "    </tr>\n",
       "    <tr>\n",
       "      <th>min</th>\n",
       "      <td>0.00000</td>\n",
       "    </tr>\n",
       "    <tr>\n",
       "      <th>25%</th>\n",
       "      <td>11651.75000</td>\n",
       "    </tr>\n",
       "    <tr>\n",
       "      <th>50%</th>\n",
       "      <td>23303.50000</td>\n",
       "    </tr>\n",
       "    <tr>\n",
       "      <th>75%</th>\n",
       "      <td>34955.25000</td>\n",
       "    </tr>\n",
       "    <tr>\n",
       "      <th>max</th>\n",
       "      <td>46607.00000</td>\n",
       "    </tr>\n",
       "  </tbody>\n",
       "</table>\n",
       "</div>"
      ],
      "text/plain": [
       "        Unnamed: 0\n",
       "count  46608.00000\n",
       "mean   23303.50000\n",
       "std    13454.71501\n",
       "min        0.00000\n",
       "25%    11651.75000\n",
       "50%    23303.50000\n",
       "75%    34955.25000\n",
       "max    46607.00000"
      ]
     },
     "execution_count": 5,
     "metadata": {},
     "output_type": "execute_result"
    }
   ],
   "source": [
    "df.describe()"
   ]
  },
  {
   "cell_type": "code",
   "execution_count": 6,
   "id": "2c68b659",
   "metadata": {},
   "outputs": [
    {
     "data": {
      "text/plain": [
       "Index(['Unnamed: 0', 'Agent_id', 'status', 'lost_reason', 'budget', 'lease',\n",
       "       'movein', 'source', 'source_city', 'source_country', 'utm_source',\n",
       "       'utm_medium', 'des_city', 'des_country', 'room_type', 'lead_id'],\n",
       "      dtype='object')"
      ]
     },
     "execution_count": 6,
     "metadata": {},
     "output_type": "execute_result"
    }
   ],
   "source": [
    "df.columns"
   ]
  },
  {
   "cell_type": "code",
   "execution_count": 7,
   "id": "c27206c2",
   "metadata": {},
   "outputs": [
    {
     "data": {
      "text/plain": [
       "2fca346db656187102ce806ac732e06a62df0dbb2829e511a770556d398e1a6e    8186\n",
       "96ab6152cb421b4d4012a4903c19004608a342a5f7c6671a7828b8ad8d5b9489    1456\n",
       "44864c96fa1c36602f0d045b268981b6cab638a60fc207c89e3bba235f619450    1280\n",
       "fb3e2c0015ad5bcd60d7619ca575a56c15c5d2cd3f01f18e68c4dfaeee585db5    1105\n",
       "eac9815a500f908736d303e23aa227f0957177b0e6756b915a3d3cc3a846b83b    1070\n",
       "                                                                    ... \n",
       "04222ea3e14cb1209b9726defe3efce5196b7afa0a959854a30401be41f4026d       1\n",
       "fb87e6cf60af08595bd9fcf1f006a12f1338cb4480acea383b3b65da10bb9f28       1\n",
       "c904d4c3485db6569c9deb41da845d82056e8843eafba8bc8a90aaa06df96963       1\n",
       "59e19706d51d39f66711c2653cd7eb1291c94d9b55eb14bda74ce4dc636d015a       1\n",
       "4ec9599fc203d176a301536c2e091a19bc852759b255bd6818810a42c5fed14a       1\n",
       "Name: Agent_id, Length: 120, dtype: int64"
      ]
     },
     "execution_count": 7,
     "metadata": {},
     "output_type": "execute_result"
    }
   ],
   "source": [
    "df['Agent_id'].value_counts()"
   ]
  },
  {
   "cell_type": "code",
   "execution_count": 8,
   "id": "8753f2da",
   "metadata": {},
   "outputs": [
    {
     "data": {
      "text/plain": [
       "120"
      ]
     },
     "execution_count": 8,
     "metadata": {},
     "output_type": "execute_result"
    }
   ],
   "source": [
    "df['Agent_id'].nunique()"
   ]
  },
  {
   "cell_type": "code",
   "execution_count": 9,
   "id": "738cecfc",
   "metadata": {},
   "outputs": [
    {
     "data": {
      "text/plain": [
       "Text(0.5, 1.0, 'Number of agents repeated')"
      ]
     },
     "execution_count": 9,
     "metadata": {},
     "output_type": "execute_result"
    },
    {
     "data": {
      "image/png": "[encoded data removed]",
      "text/plain": [
       "<Figure size 1500x600 with 1 Axes>"
      ]
     },
     "metadata": {},
     "output_type": "display_data"
    }
   ],
   "source": [
    "plt.figure(figsize=(15,6))\n",
    "plt.plot(df['Agent_id'].value_counts())\n",
    "plt.xlabel('Agent_id')\n",
    "plt.ylabel('Count')\n",
    "plt.title('Number of agents repeated')"
   ]
  },
  {
   "cell_type": "code",
   "execution_count": 10,
   "id": "50da2c53",
   "metadata": {},
   "outputs": [],
   "source": [
    "from sklearn.preprocessing import LabelEncoder\n",
    "le=LabelEncoder()\n",
    "df['Agent_id']=le.fit_transform(df['Agent_id'])"
   ]
  },
  {
   "cell_type": "code",
   "execution_count": 11,
   "id": "3ba94734",
   "metadata": {},
   "outputs": [],
   "source": [
    "df['status']=df['status'].map({'LOST':0,'WON':1})"
   ]
  },
  {
   "cell_type": "code",
   "execution_count": 12,
   "id": "4cbdd216",
   "metadata": {},
   "outputs": [
    {
     "data": {
      "text/plain": [
       "<AxesSubplot: xlabel='Agent_id', ylabel='count'>"
      ]
     },
     "execution_count": 12,
     "metadata": {},
     "output_type": "execute_result"
    },
    {
     "data": {
      "image/png": "[encoded data removed]",
      "text/plain": [
       "<Figure size 2000x800 with 1 Axes>"
      ]
     },
     "metadata": {},
     "output_type": "display_data"
    }
   ],
   "source": [
    "#Top 25 agents \n",
    "plt.figure(figsize=(20,8))\n",
    "sns.countplot(x=df['Agent_id'].head(25))"
   ]
  },
  {
   "cell_type": "code",
   "execution_count": 13,
   "id": "b48d8361",
   "metadata": {},
   "outputs": [
    {
     "data": {
      "text/plain": [
       "array([ 0.,  1., nan])"
      ]
     },
     "execution_count": 13,
     "metadata": {},
     "output_type": "execute_result"
    }
   ],
   "source": [
    "df['status'].unique()"
   ]
  },
  {
   "cell_type": "code",
   "execution_count": null,
   "id": "cfedb0e5",
   "metadata": {},
   "outputs": [],
   "source": []
  },
  {
   "cell_type": "code",
   "execution_count": 14,
   "id": "6de87b01",
   "metadata": {},
   "outputs": [
    {
     "data": {
      "text/plain": [
       "Unnamed: 0            0\n",
       "Agent_id              0\n",
       "status              291\n",
       "lost_reason        3364\n",
       "budget             3700\n",
       "lease              2341\n",
       "movein            13638\n",
       "source                0\n",
       "source_city           0\n",
       "source_country        0\n",
       "utm_source            0\n",
       "utm_medium            0\n",
       "des_city              0\n",
       "des_country           0\n",
       "room_type         23547\n",
       "lead_id               0\n",
       "dtype: int64"
      ]
     },
     "execution_count": 14,
     "metadata": {},
     "output_type": "execute_result"
    }
   ],
   "source": [
    "df.isnull().sum()"
   ]
  },
  {
   "cell_type": "code",
   "execution_count": 15,
   "id": "499c48a8",
   "metadata": {},
   "outputs": [
    {
     "data": {
      "text/plain": [
       "7aae3e886e89fc1187a5c47d6cea1c22998ee610ade1f2b7c51be879f0c37ca8    19306\n",
       "9b2d5b4678781e53038e91ea5324530a03f27dc1d0e5f6c9bc9d493a23be9de0     5977\n",
       "7bcfca0e9d73371699b0adbf1c691e02108fa64f02f4dbe24a0217f139a9b916     3809\n",
       "ba2d0a29556ac20f86f45e4543c0825428cba33fd7a9eaa29e3f169d2ca43b2b     3593\n",
       "146fb4ecbe78caa24102bbaac12e2559a8c8e32fb116d36e3553a709fce40549     2220\n",
       "                                                                    ...  \n",
       "6a60107e3532ad81fc9a5b81e8c6ebc09776c62d2c31be9c921d0273f491166d        1\n",
       "eb77035a1aec7874c4294ba3a72068110c630add1884e7df94be3f5e80e107ea        1\n",
       "e7f73ae35fb85dba0110642f19c4f6aaa1c2e6498694506b262306b543c77f41        1\n",
       "ffda956ad9e38c62bf6218b66a7f53be79adbcc876aeed4147dfcf1a33d004c7        1\n",
       "93bee3e177d17c128e6a6af7b88fd675d7ec729b1a88ae13c582248dfd702378        1\n",
       "Name: source, Length: 683, dtype: int64"
      ]
     },
     "execution_count": 15,
     "metadata": {},
     "output_type": "execute_result"
    }
   ],
   "source": [
    "df['source'].value_counts()"
   ]
  },
  {
   "cell_type": "code",
   "execution_count": 16,
   "id": "919dbec8",
   "metadata": {},
   "outputs": [],
   "source": [
    "# replacing note 1 code with 0\n",
    "l=[]\n",
    "for i in df['source']:\n",
    "    if i =='9b2d5b4678781e53038e91ea5324530a03f27dc1d0e5f6c9bc9d493a23be9de0':\n",
    "        i=i.replace('9b2d5b4678781e53038e91ea5324530a03f27dc1d0e5f6c9bc9d493a23be9de0','0')\n",
    "    l.append(i)\n",
    "    \n",
    "df['source']=l\n",
    "\n",
    "# Replacing in source_city column\n",
    "\n",
    "l1=[]\n",
    "for i in df['source_city']:\n",
    "    if i =='9b2d5b4678781e53038e91ea5324530a03f27dc1d0e5f6c9bc9d493a23be9de0':\n",
    "        i=i.replace('9b2d5b4678781e53038e91ea5324530a03f27dc1d0e5f6c9bc9d493a23be9de0','0')\n",
    "    l1.append(i)\n",
    "\n",
    "df['source_city']=l1\n",
    "\n",
    "# Replacing in source_country column\n",
    "\n",
    "l2=[]\n",
    "for i in df['source_country']:\n",
    "    if i =='9b2d5b4678781e53038e91ea5324530a03f27dc1d0e5f6c9bc9d493a23be9de0':\n",
    "        i=i.replace('9b2d5b4678781e53038e91ea5324530a03f27dc1d0e5f6c9bc9d493a23be9de0','0')\n",
    "    l2.append(i)\n",
    "\n",
    "\n",
    "#\n",
    "\n",
    "l3=[]\n",
    "\n",
    "for i in df['des_city']:\n",
    "    if i =='9b2d5b4678781e53038e91ea5324530a03f27dc1d0e5f6c9bc9d493a23be9de0':\n",
    "        i=i.replace('9b2d5b4678781e53038e91ea5324530a03f27dc1d0e5f6c9bc9d493a23be9de0','0')\n",
    "    l3.append(i)\n",
    "\n",
    "df['des_city']=l3\n",
    "\n",
    "#\n",
    "l4=[]\n",
    "for i in df['des_country']:\n",
    "    if i =='9b2d5b4678781e53038e91ea5324530a03f27dc1d0e5f6c9bc9d493a23be9de0':\n",
    "        i=i.replace('9b2d5b4678781e53038e91ea5324530a03f27dc1d0e5f6c9bc9d493a23be9de0','0')\n",
    "    l4.append(i)\n",
    "    \n",
    "df['des_country']=l4\n",
    "\n",
    "#\n",
    "\n",
    "l5=[]    \n",
    "for i in df['utm_medium']:\n",
    "    if i =='9b2d5b4678781e53038e91ea5324530a03f27dc1d0e5f6c9bc9d493a23be9de0':\n",
    "        i=i.replace('9b2d5b4678781e53038e91ea5324530a03f27dc1d0e5f6c9bc9d493a23be9de0','0')\n",
    "    l5.append(i)    \n",
    "\n",
    "df['utm_medium']=l5\n",
    "\n",
    "#\n",
    "\n",
    "l6=[]    \n",
    "for i in df['utm_source']:\n",
    "    if i =='9b2d5b4678781e53038e91ea5324530a03f27dc1d0e5f6c9bc9d493a23be9de0':\n",
    "        i=i.replace('9b2d5b4678781e53038e91ea5324530a03f27dc1d0e5f6c9bc9d493a23be9de0','0')\n",
    "    l6.append(i)    \n",
    "\n",
    "df['utm_source']=l6\n",
    "    \n"
   ]
  },
  {
   "cell_type": "code",
   "execution_count": 17,
   "id": "89c0eaf4",
   "metadata": {},
   "outputs": [],
   "source": [
    "df['source']=le.fit_transform(df['source'])\n",
    "df['source_city']=le.fit_transform(df['source_city'])\n",
    "df['source_country']=le.fit_transform(df['source_country'])\n",
    "df['utm_source']=le.fit_transform(df['utm_source'])\n",
    "df['utm_medium']=le.fit_transform(df['utm_medium'])\n",
    "df['des_country']=le.fit_transform(df['des_country'])\n",
    "df['des_city']=le.fit_transform(df['des_city'])\n"
   ]
  },
  {
   "cell_type": "code",
   "execution_count": 18,
   "id": "cc82ba3f",
   "metadata": {},
   "outputs": [
    {
     "data": {
      "text/plain": [
       "<AxesSubplot: xlabel='source', ylabel='count'>"
      ]
     },
     "execution_count": 18,
     "metadata": {},
     "output_type": "execute_result"
    },
    {
     "data": {
      "image/png": "[encoded data removed]",
      "text/plain": [
       "<Figure size 640x480 with 1 Axes>"
      ]
     },
     "metadata": {},
     "output_type": "display_data"
    }
   ],
   "source": [
    "sns.countplot(x=df['source'].head(25))"
   ]
  },
  {
   "cell_type": "code",
   "execution_count": 19,
   "id": "7fdffa87",
   "metadata": {},
   "outputs": [
    {
     "data": {
      "text/plain": [
       "0       8851\n",
       "4014    3044\n",
       "3058    1441\n",
       "2707     862\n",
       "2134     761\n",
       "        ... \n",
       "813        1\n",
       "1251       1\n",
       "2716       1\n",
       "1134       1\n",
       "3618       1\n",
       "Name: source_city, Length: 4336, dtype: int64"
      ]
     },
     "execution_count": 19,
     "metadata": {},
     "output_type": "execute_result"
    }
   ],
   "source": [
    "df['source_city'].value_counts()"
   ]
  },
  {
   "cell_type": "code",
   "execution_count": null,
   "id": "01c313e1",
   "metadata": {},
   "outputs": [],
   "source": []
  },
  {
   "cell_type": "code",
   "execution_count": null,
   "id": "fe511979",
   "metadata": {},
   "outputs": [],
   "source": []
  },
  {
   "cell_type": "code",
   "execution_count": 20,
   "id": "f3facf4d",
   "metadata": {},
   "outputs": [
    {
     "data": {
      "text/plain": [
       "30574"
      ]
     },
     "execution_count": 20,
     "metadata": {},
     "output_type": "execute_result"
    }
   ],
   "source": [
    "df['lead_id'].nunique()"
   ]
  },
  {
   "cell_type": "code",
   "execution_count": 21,
   "id": "1d14d0fa",
   "metadata": {},
   "outputs": [
    {
     "name": "stderr",
     "output_type": "stream",
     "text": [
      "C:\\Users\\User\\AppData\\Local\\Temp\\ipykernel_2964\\4000683148.py:1: FutureWarning: The default value of numeric_only in DataFrame.corr is deprecated. In a future version, it will default to False. Select only valid columns or specify the value of numeric_only to silence this warning.\n",
      "  df.corr()\n"
     ]
    },
    {
     "data": {
      "text/html": [
       "<div>\n",
       "<style scoped>\n",
       "    .dataframe tbody tr th:only-of-type {\n",
       "        vertical-align: middle;\n",
       "    }\n",
       "\n",
       "    .dataframe tbody tr th {\n",
       "        vertical-align: top;\n",
       "    }\n",
       "\n",
       "    .dataframe thead th {\n",
       "        text-align: right;\n",
       "    }\n",
       "</style>\n",
       "<table border=\"1\" class=\"dataframe\">\n",
       "  <thead>\n",
       "    <tr style=\"text-align: right;\">\n",
       "      <th></th>\n",
       "      <th>Unnamed: 0</th>\n",
       "      <th>Agent_id</th>\n",
       "      <th>status</th>\n",
       "      <th>source</th>\n",
       "      <th>source_city</th>\n",
       "      <th>source_country</th>\n",
       "      <th>utm_source</th>\n",
       "      <th>utm_medium</th>\n",
       "      <th>des_city</th>\n",
       "      <th>des_country</th>\n",
       "    </tr>\n",
       "  </thead>\n",
       "  <tbody>\n",
       "    <tr>\n",
       "      <th>Unnamed: 0</th>\n",
       "      <td>1.000000</td>\n",
       "      <td>-0.008787</td>\n",
       "      <td>0.021580</td>\n",
       "      <td>-0.063293</td>\n",
       "      <td>0.025181</td>\n",
       "      <td>0.056345</td>\n",
       "      <td>-0.013693</td>\n",
       "      <td>0.068690</td>\n",
       "      <td>-0.007751</td>\n",
       "      <td>0.030082</td>\n",
       "    </tr>\n",
       "    <tr>\n",
       "      <th>Agent_id</th>\n",
       "      <td>-0.008787</td>\n",
       "      <td>1.000000</td>\n",
       "      <td>0.033037</td>\n",
       "      <td>-0.003203</td>\n",
       "      <td>0.003771</td>\n",
       "      <td>0.027686</td>\n",
       "      <td>0.026944</td>\n",
       "      <td>-0.085116</td>\n",
       "      <td>0.078794</td>\n",
       "      <td>0.066421</td>\n",
       "    </tr>\n",
       "    <tr>\n",
       "      <th>status</th>\n",
       "      <td>0.021580</td>\n",
       "      <td>0.033037</td>\n",
       "      <td>1.000000</td>\n",
       "      <td>0.068918</td>\n",
       "      <td>0.014086</td>\n",
       "      <td>0.036049</td>\n",
       "      <td>-0.004484</td>\n",
       "      <td>-0.059516</td>\n",
       "      <td>-0.000041</td>\n",
       "      <td>0.051957</td>\n",
       "    </tr>\n",
       "    <tr>\n",
       "      <th>source</th>\n",
       "      <td>-0.063293</td>\n",
       "      <td>-0.003203</td>\n",
       "      <td>0.068918</td>\n",
       "      <td>1.000000</td>\n",
       "      <td>0.183451</td>\n",
       "      <td>0.034951</td>\n",
       "      <td>0.226453</td>\n",
       "      <td>0.052054</td>\n",
       "      <td>-0.007744</td>\n",
       "      <td>-0.068847</td>\n",
       "    </tr>\n",
       "    <tr>\n",
       "      <th>source_city</th>\n",
       "      <td>0.025181</td>\n",
       "      <td>0.003771</td>\n",
       "      <td>0.014086</td>\n",
       "      <td>0.183451</td>\n",
       "      <td>1.000000</td>\n",
       "      <td>0.257441</td>\n",
       "      <td>0.277351</td>\n",
       "      <td>-0.100736</td>\n",
       "      <td>-0.012227</td>\n",
       "      <td>0.090886</td>\n",
       "    </tr>\n",
       "    <tr>\n",
       "      <th>source_country</th>\n",
       "      <td>0.056345</td>\n",
       "      <td>0.027686</td>\n",
       "      <td>0.036049</td>\n",
       "      <td>0.034951</td>\n",
       "      <td>0.257441</td>\n",
       "      <td>1.000000</td>\n",
       "      <td>0.086998</td>\n",
       "      <td>-0.145148</td>\n",
       "      <td>-0.065820</td>\n",
       "      <td>0.122625</td>\n",
       "    </tr>\n",
       "    <tr>\n",
       "      <th>utm_source</th>\n",
       "      <td>-0.013693</td>\n",
       "      <td>0.026944</td>\n",
       "      <td>-0.004484</td>\n",
       "      <td>0.226453</td>\n",
       "      <td>0.277351</td>\n",
       "      <td>0.086998</td>\n",
       "      <td>1.000000</td>\n",
       "      <td>-0.110075</td>\n",
       "      <td>-0.009514</td>\n",
       "      <td>0.085100</td>\n",
       "    </tr>\n",
       "    <tr>\n",
       "      <th>utm_medium</th>\n",
       "      <td>0.068690</td>\n",
       "      <td>-0.085116</td>\n",
       "      <td>-0.059516</td>\n",
       "      <td>0.052054</td>\n",
       "      <td>-0.100736</td>\n",
       "      <td>-0.145148</td>\n",
       "      <td>-0.110075</td>\n",
       "      <td>1.000000</td>\n",
       "      <td>-0.036095</td>\n",
       "      <td>-0.206867</td>\n",
       "    </tr>\n",
       "    <tr>\n",
       "      <th>des_city</th>\n",
       "      <td>-0.007751</td>\n",
       "      <td>0.078794</td>\n",
       "      <td>-0.000041</td>\n",
       "      <td>-0.007744</td>\n",
       "      <td>-0.012227</td>\n",
       "      <td>-0.065820</td>\n",
       "      <td>-0.009514</td>\n",
       "      <td>-0.036095</td>\n",
       "      <td>1.000000</td>\n",
       "      <td>0.376044</td>\n",
       "    </tr>\n",
       "    <tr>\n",
       "      <th>des_country</th>\n",
       "      <td>0.030082</td>\n",
       "      <td>0.066421</td>\n",
       "      <td>0.051957</td>\n",
       "      <td>-0.068847</td>\n",
       "      <td>0.090886</td>\n",
       "      <td>0.122625</td>\n",
       "      <td>0.085100</td>\n",
       "      <td>-0.206867</td>\n",
       "      <td>0.376044</td>\n",
       "      <td>1.000000</td>\n",
       "    </tr>\n",
       "  </tbody>\n",
       "</table>\n",
       "</div>"
      ],
      "text/plain": [
       "                Unnamed: 0  Agent_id    status    source  source_city  \\\n",
       "Unnamed: 0        1.000000 -0.008787  0.021580 -0.063293     0.025181   \n",
       "Agent_id         -0.008787  1.000000  0.033037 -0.003203     0.003771   \n",
       "status            0.021580  0.033037  1.000000  0.068918     0.014086   \n",
       "source           -0.063293 -0.003203  0.068918  1.000000     0.183451   \n",
       "source_city       0.025181  0.003771  0.014086  0.183451     1.000000   \n",
       "source_country    0.056345  0.027686  0.036049  0.034951     0.257441   \n",
       "utm_source       -0.013693  0.026944 -0.004484  0.226453     0.277351   \n",
       "utm_medium        0.068690 -0.085116 -0.059516  0.052054    -0.100736   \n",
       "des_city         -0.007751  0.078794 -0.000041 -0.007744    -0.012227   \n",
       "des_country       0.030082  0.066421  0.051957 -0.068847     0.090886   \n",
       "\n",
       "                source_country  utm_source  utm_medium  des_city  des_country  \n",
       "Unnamed: 0            0.056345   -0.013693    0.068690 -0.007751     0.030082  \n",
       "Agent_id              0.027686    0.026944   -0.085116  0.078794     0.066421  \n",
       "status                0.036049   -0.004484   -0.059516 -0.000041     0.051957  \n",
       "source                0.034951    0.226453    0.052054 -0.007744    -0.068847  \n",
       "source_city           0.257441    0.277351   -0.100736 -0.012227     0.090886  \n",
       "source_country        1.000000    0.086998   -0.145148 -0.065820     0.122625  \n",
       "utm_source            0.086998    1.000000   -0.110075 -0.009514     0.085100  \n",
       "utm_medium           -0.145148   -0.110075    1.000000 -0.036095    -0.206867  \n",
       "des_city             -0.065820   -0.009514   -0.036095  1.000000     0.376044  \n",
       "des_country           0.122625    0.085100   -0.206867  0.376044     1.000000  "
      ]
     },
     "execution_count": 21,
     "metadata": {},
     "output_type": "execute_result"
    }
   ],
   "source": [
    "df.corr()\n",
    "# From this we observe that the columns are not correlated to \n",
    "#each other so we will drop only those columns who have unique values only"
   ]
  },
  {
   "cell_type": "code",
   "execution_count": 22,
   "id": "3d3f8ea5",
   "metadata": {},
   "outputs": [],
   "source": [
    "# Droping lead_id because unique nature\n",
    "#droping room_type because more than half values are missing\n",
    "df.drop(['lead_id','room_type','movein','lost_reason'],axis=1,inplace=True)"
   ]
  },
  {
   "cell_type": "code",
   "execution_count": 23,
   "id": "63470945",
   "metadata": {},
   "outputs": [
    {
     "data": {
      "text/plain": [
       "0.0    43244\n",
       "1.0     3073\n",
       "Name: status, dtype: int64"
      ]
     },
     "execution_count": 23,
     "metadata": {},
     "output_type": "execute_result"
    }
   ],
   "source": [
    "df['status'].value_counts()"
   ]
  },
  {
   "cell_type": "code",
   "execution_count": null,
   "id": "03232849",
   "metadata": {},
   "outputs": [],
   "source": []
  },
  {
   "cell_type": "code",
   "execution_count": null,
   "id": "44f3cb99",
   "metadata": {},
   "outputs": [],
   "source": []
  },
  {
   "cell_type": "code",
   "execution_count": 24,
   "id": "44ed387a",
   "metadata": {},
   "outputs": [
    {
     "data": {
      "text/plain": [
       "array([nan, 'Full Year Course Stay 40 - 44 weeks', 0, 'semester-stay', 51,\n",
       "       'Semester Stay 20 - 24 weeks',\n",
       "       'Complete Education Year Stay 50 - 52 weeks', 'full-course-stay',\n",
       "       'full-year-stay', 'Other', '51 weeks', 44, 18, 'full year stay',\n",
       "       '51weeks', 'Summer/Short Stay 8 - 12 weeks', '51 weeks \\\\',\n",
       "       'other', 'short-stay', '52 weeks', '44 weeks', 12, '1 year', 96,\n",
       "       43, 20, 294, '20 - 24 weeks', '1 year .', 48, 40, 'N51', 6,\n",
       "       'Academic year', 8, '51Weeks', '50 weeks', 84, '15 weeks',\n",
       "       'full course', 45, 39, 1, '5 weeks', 50, '12-24', 25, '45 weeks',\n",
       "       19, '44-51', '6 weeks', 'FULL YEAR', '24-36', 32, '44/week', 42,\n",
       "       '3 month', '44-51 weeks', '3 months', 24, '6 months', '2 years',\n",
       "       10, 52, '2 weeks', 46, 'sem stay', 13, 'lease', 'short stay', 4,\n",
       "       '52weeks', 69, 16, '50 - 52 weeks', '44 - 51 weeks', '4-8 weeks',\n",
       "       '4 weeks', 3, 'Full year stay', 11, '10-15 weeks', '40-44',\n",
       "       '52 weeks]', 26, '40 - 44 weeks', '51\\\\', '51 week', '36 - 44',\n",
       "       140, 'Sem Stay', 41, '44/51 weeks', 56, '40 weeks', '1 month',\n",
       "       '10 months', '<=8', '44 WEEKS', 21, 2, '24-44 weeks', 350,\n",
       "       '06 months', 47, '12 weeks', 38, 54, 37, 30, '16 weeks', '4 WEEKS',\n",
       "       15, 22, 17, '44weeks', 5, 'Full Year Course Stay 51 weeks',\n",
       "       '500-550pm', '12m', '5 months', '14 weeks', 36, 'not sure', 49,\n",
       "       '44-52 weeks', '41 weeks', '45/week', 23, '51 weeks weeks',\n",
       "       'Full Year Course Stay 44- 51 weeks', '24 weeks', '11 months',\n",
       "       'Full Year Stay', '44 week', '10 weeks', '5-6 months',\n",
       "       '40-44 weeks', 'semester stay', 'ASAP', 'academic year',\n",
       "       '42-52 weeks', '2-3 months', '41weeks', 34, '35 weeks', '8months',\n",
       "       '16 week', 'until dec', '1 - 2 months', 'full year', '51-54weeks',\n",
       "       357, 'Full year', '3 years', '7 days', '4 months', 'long tearm',\n",
       "       55, '56 weeks', 207, 35, 14, 'Stay 50 - 52 weeks', '1 year stay.',\n",
       "       '30 weeks', 61, 88, '1year', '3-4 weeks',\n",
       "       '51 weeks ( I don’t mind travelling over an hour)', '44-51 weeeks',\n",
       "       'N/44', '8 weeks', '38 Weeks', '24-48 weeks', 156, '9-12 months',\n",
       "       '6 motnhs', '44WEEKS', '2 -3weeks', '3-4 months', 'Semester stay',\n",
       "       '20weeks', '1 month\\\\', 'aug', 97, '44-51weeks', 76, '44/weeks',\n",
       "       '6 month', '36-40 weeks', '17 weeks', '12 month',\n",
       "       '44 weeks/51 weeks', 'full year stayt', 'Short stay',\n",
       "       '25-30 weeks', '1 week', 31, '125/week', 60,\n",
       "       datetime.datetime(2023, 2, 1, 0, 0), '6  onths', '03 months',\n",
       "       '44 - 51', '-', '45 or more', 'Semester Stay', 27, '46 weeks',\n",
       "       '38-44 weeks', 'full yyear stay', 0.5, '8-12 weeks', '6months', 9,\n",
       "       'London', 28, '46 week', 72, 'Long time', '51 cweeks', '42 weeks',\n",
       "       '12 months', 33, '1 year stay', '6weeks', '2years', '43 weeks',\n",
       "       '6 months (26 weeks)', '20 weeks', '53 weeks', 'Full Year',\n",
       "       '7-8 months', '10 month', 'Glasgow', '10weeks', '51WEEKS',\n",
       "       'till december', '9 months', '36-38 weeks', '19 weeks',\n",
       "       '40weeks +', '40 week', 250, '39 weeks', '6-8 months',\n",
       "       '6m to 1 year', '44weeks - 51', '130/week', '51 wweeks',\n",
       "       '45 weeksa', 68, '44 or 51 weeks', '51 WEEKS', '52 WEEKS',\n",
       "       '51  weeks', '51sweek', '48 weeks', '44 week stay', '44week',\n",
       "       '43/44 weeks', 130, 29, 58, '3months', '160/week',\n",
       "       'Until June 2023', '34 weeks', 'Whole year', '40 weekks',\n",
       "       '-51 weeks', '12-16', '45 WEEKS', 'Until august', '8-12 m',\n",
       "       '39 week', '16 days', 150, '2 months', '38 weeks', '1-2 months',\n",
       "       'Full time', '1 weeks', '44-', '2 month', '3-5 months', '3 weeks',\n",
       "       143, 144, '1 YEAR', '44 week s', 57, '40+', 129, '42-51',\n",
       "       'Sem stay', 70, 189, '5-6 weeks', 'academic yr', '12 weeks max',\n",
       "       '23 weeks', 89, '1 mnth', '200/week', '22 weeks', '51 Weeks',\n",
       "       '24-44weeks', '33 weeks', 78], dtype=object)"
      ]
     },
     "execution_count": 24,
     "metadata": {},
     "output_type": "execute_result"
    }
   ],
   "source": [
    "df['lease'].unique()"
   ]
  },
  {
   "cell_type": "code",
   "execution_count": 25,
   "id": "517ffeac",
   "metadata": {},
   "outputs": [],
   "source": [
    "#Cleaning of lease column\n",
    "\n",
    "for i in df['lease']:\n",
    "    if type(i)==int:\n",
    "        df4=df[df['lease']==i] \n",
    "for i in df:\n",
    "    rows = df[df['lease'].str.contains('week', case = False, na = False)]\n",
    "    df1=pd.DataFrame(rows)\n",
    "for i in df:\n",
    "    rows = df[df['lease'].str.contains('year', case = False, na = False)]\n",
    "    df2=pd.DataFrame(rows)\n",
    "for i in df:\n",
    "    rows = df[df['lease'].str.contains('month', case = False, na = False)]\n",
    "    df3=pd.DataFrame(rows)\n",
    "    \n",
    "    \n",
    "df1['Number of week'] = df1['lease'].astype('str').str.extractall('(\\d+)').unstack().fillna('').sum(axis=1).astype(int)\n",
    "df2['Number of year'] = df2['lease'].astype('str').str.extractall('(\\d+)').unstack().fillna('').sum(axis=1).astype(int)\n",
    "df3['Number of month'] = df3['lease'].astype('str').str.extractall('(\\d+)').unstack().fillna('').sum(axis=1).astype(int)\n",
    "\n",
    "\n",
    "df2['Number of year']=df2['Number of year'].fillna(0)\n",
    "df1['Number of week']=df1['Number of week'].fillna(0)\n",
    "df3['Number of month']=df3['Number of month'].fillna(0)"
   ]
  },
  {
   "cell_type": "code",
   "execution_count": 26,
   "id": "b636cbda",
   "metadata": {},
   "outputs": [
    {
     "data": {
      "text/html": [
       "<div>\n",
       "<style scoped>\n",
       "    .dataframe tbody tr th:only-of-type {\n",
       "        vertical-align: middle;\n",
       "    }\n",
       "\n",
       "    .dataframe tbody tr th {\n",
       "        vertical-align: top;\n",
       "    }\n",
       "\n",
       "    .dataframe thead th {\n",
       "        text-align: right;\n",
       "    }\n",
       "</style>\n",
       "<table border=\"1\" class=\"dataframe\">\n",
       "  <thead>\n",
       "    <tr style=\"text-align: right;\">\n",
       "      <th></th>\n",
       "      <th>Unnamed: 0</th>\n",
       "      <th>Agent_id</th>\n",
       "      <th>status</th>\n",
       "      <th>budget</th>\n",
       "      <th>lease</th>\n",
       "      <th>source</th>\n",
       "      <th>source_city</th>\n",
       "      <th>source_country</th>\n",
       "      <th>utm_source</th>\n",
       "      <th>utm_medium</th>\n",
       "      <th>des_city</th>\n",
       "      <th>des_country</th>\n",
       "      <th>Number of week</th>\n",
       "    </tr>\n",
       "  </thead>\n",
       "  <tbody>\n",
       "    <tr>\n",
       "      <th>2</th>\n",
       "      <td>2</td>\n",
       "      <td>87</td>\n",
       "      <td>0.0</td>\n",
       "      <td>£121 - £180 Per Week</td>\n",
       "      <td>Full Year Course Stay 40 - 44 weeks</td>\n",
       "      <td>344</td>\n",
       "      <td>2630</td>\n",
       "      <td>167</td>\n",
       "      <td>26</td>\n",
       "      <td>4</td>\n",
       "      <td>19</td>\n",
       "      <td>9</td>\n",
       "      <td>4044</td>\n",
       "    </tr>\n",
       "    <tr>\n",
       "      <th>8</th>\n",
       "      <td>8</td>\n",
       "      <td>75</td>\n",
       "      <td>0.0</td>\n",
       "      <td>100</td>\n",
       "      <td>Semester Stay 20 - 24 weeks</td>\n",
       "      <td>378</td>\n",
       "      <td>1360</td>\n",
       "      <td>101</td>\n",
       "      <td>26</td>\n",
       "      <td>4</td>\n",
       "      <td>75</td>\n",
       "      <td>9</td>\n",
       "      <td>2024</td>\n",
       "    </tr>\n",
       "    <tr>\n",
       "      <th>11</th>\n",
       "      <td>11</td>\n",
       "      <td>98</td>\n",
       "      <td>0.0</td>\n",
       "      <td>£121 - £180 Per Week</td>\n",
       "      <td>Full Year Course Stay 40 - 44 weeks</td>\n",
       "      <td>344</td>\n",
       "      <td>527</td>\n",
       "      <td>167</td>\n",
       "      <td>26</td>\n",
       "      <td>4</td>\n",
       "      <td>19</td>\n",
       "      <td>9</td>\n",
       "      <td>4044</td>\n",
       "    </tr>\n",
       "    <tr>\n",
       "      <th>12</th>\n",
       "      <td>12</td>\n",
       "      <td>27</td>\n",
       "      <td>0.0</td>\n",
       "      <td>£121 - £180 Per Week</td>\n",
       "      <td>Full Year Course Stay 40 - 44 weeks</td>\n",
       "      <td>344</td>\n",
       "      <td>3026</td>\n",
       "      <td>167</td>\n",
       "      <td>26</td>\n",
       "      <td>4</td>\n",
       "      <td>118</td>\n",
       "      <td>9</td>\n",
       "      <td>4044</td>\n",
       "    </tr>\n",
       "    <tr>\n",
       "      <th>13</th>\n",
       "      <td>13</td>\n",
       "      <td>37</td>\n",
       "      <td>0.0</td>\n",
       "      <td>£181 - £240 Per Week</td>\n",
       "      <td>Complete Education Year Stay 50 - 52 weeks</td>\n",
       "      <td>344</td>\n",
       "      <td>2470</td>\n",
       "      <td>167</td>\n",
       "      <td>26</td>\n",
       "      <td>4</td>\n",
       "      <td>115</td>\n",
       "      <td>9</td>\n",
       "      <td>5052</td>\n",
       "    </tr>\n",
       "    <tr>\n",
       "      <th>...</th>\n",
       "      <td>...</td>\n",
       "      <td>...</td>\n",
       "      <td>...</td>\n",
       "      <td>...</td>\n",
       "      <td>...</td>\n",
       "      <td>...</td>\n",
       "      <td>...</td>\n",
       "      <td>...</td>\n",
       "      <td>...</td>\n",
       "      <td>...</td>\n",
       "      <td>...</td>\n",
       "      <td>...</td>\n",
       "      <td>...</td>\n",
       "    </tr>\n",
       "    <tr>\n",
       "      <th>46599</th>\n",
       "      <td>46599</td>\n",
       "      <td>110</td>\n",
       "      <td>0.0</td>\n",
       "      <td>£60 - £120 Per week</td>\n",
       "      <td>Semester Stay 20 - 24 weeks</td>\n",
       "      <td>344</td>\n",
       "      <td>1153</td>\n",
       "      <td>167</td>\n",
       "      <td>26</td>\n",
       "      <td>4</td>\n",
       "      <td>7</td>\n",
       "      <td>9</td>\n",
       "      <td>2024</td>\n",
       "    </tr>\n",
       "    <tr>\n",
       "      <th>46603</th>\n",
       "      <td>46603</td>\n",
       "      <td>15</td>\n",
       "      <td>0.0</td>\n",
       "      <td>£60 - £120 Per week</td>\n",
       "      <td>Complete Education Year Stay 50 - 52 weeks</td>\n",
       "      <td>0</td>\n",
       "      <td>2134</td>\n",
       "      <td>101</td>\n",
       "      <td>26</td>\n",
       "      <td>4</td>\n",
       "      <td>23</td>\n",
       "      <td>9</td>\n",
       "      <td>5052</td>\n",
       "    </tr>\n",
       "    <tr>\n",
       "      <th>46604</th>\n",
       "      <td>46604</td>\n",
       "      <td>24</td>\n",
       "      <td>0.0</td>\n",
       "      <td>£60 - £120 Per week</td>\n",
       "      <td>Summer/Short Stay 8 - 12 weeks</td>\n",
       "      <td>0</td>\n",
       "      <td>2707</td>\n",
       "      <td>101</td>\n",
       "      <td>26</td>\n",
       "      <td>4</td>\n",
       "      <td>136</td>\n",
       "      <td>9</td>\n",
       "      <td>812</td>\n",
       "    </tr>\n",
       "    <tr>\n",
       "      <th>46605</th>\n",
       "      <td>46605</td>\n",
       "      <td>5</td>\n",
       "      <td>0.0</td>\n",
       "      <td>£241 - £300 Per week</td>\n",
       "      <td>Full Year Course Stay 40 - 44 weeks</td>\n",
       "      <td>344</td>\n",
       "      <td>2134</td>\n",
       "      <td>101</td>\n",
       "      <td>26</td>\n",
       "      <td>4</td>\n",
       "      <td>206</td>\n",
       "      <td>9</td>\n",
       "      <td>4044</td>\n",
       "    </tr>\n",
       "    <tr>\n",
       "      <th>46607</th>\n",
       "      <td>46607</td>\n",
       "      <td>13</td>\n",
       "      <td>0.0</td>\n",
       "      <td>£181 - £240 Per Week</td>\n",
       "      <td>Full Year Course Stay 40 - 44 weeks</td>\n",
       "      <td>344</td>\n",
       "      <td>355</td>\n",
       "      <td>167</td>\n",
       "      <td>26</td>\n",
       "      <td>4</td>\n",
       "      <td>86</td>\n",
       "      <td>9</td>\n",
       "      <td>4044</td>\n",
       "    </tr>\n",
       "  </tbody>\n",
       "</table>\n",
       "<p>23862 rows × 13 columns</p>\n",
       "</div>"
      ],
      "text/plain": [
       "       Unnamed: 0  Agent_id  status                budget  \\\n",
       "2               2        87     0.0  £121 - £180 Per Week   \n",
       "8               8        75     0.0                   100   \n",
       "11             11        98     0.0  £121 - £180 Per Week   \n",
       "12             12        27     0.0  £121 - £180 Per Week   \n",
       "13             13        37     0.0  £181 - £240 Per Week   \n",
       "...           ...       ...     ...                   ...   \n",
       "46599       46599       110     0.0   £60 - £120 Per week   \n",
       "46603       46603        15     0.0   £60 - £120 Per week   \n",
       "46604       46604        24     0.0   £60 - £120 Per week   \n",
       "46605       46605         5     0.0  £241 - £300 Per week   \n",
       "46607       46607        13     0.0  £181 - £240 Per Week   \n",
       "\n",
       "                                            lease  source  source_city  \\\n",
       "2             Full Year Course Stay 40 - 44 weeks     344         2630   \n",
       "8                     Semester Stay 20 - 24 weeks     378         1360   \n",
       "11            Full Year Course Stay 40 - 44 weeks     344          527   \n",
       "12            Full Year Course Stay 40 - 44 weeks     344         3026   \n",
       "13     Complete Education Year Stay 50 - 52 weeks     344         2470   \n",
       "...                                           ...     ...          ...   \n",
       "46599                 Semester Stay 20 - 24 weeks     344         1153   \n",
       "46603  Complete Education Year Stay 50 - 52 weeks       0         2134   \n",
       "46604              Summer/Short Stay 8 - 12 weeks       0         2707   \n",
       "46605         Full Year Course Stay 40 - 44 weeks     344         2134   \n",
       "46607         Full Year Course Stay 40 - 44 weeks     344          355   \n",
       "\n",
       "       source_country  utm_source  utm_medium  des_city  des_country  \\\n",
       "2                 167          26           4        19            9   \n",
       "8                 101          26           4        75            9   \n",
       "11                167          26           4        19            9   \n",
       "12                167          26           4       118            9   \n",
       "13                167          26           4       115            9   \n",
       "...               ...         ...         ...       ...          ...   \n",
       "46599             167          26           4         7            9   \n",
       "46603             101          26           4        23            9   \n",
       "46604             101          26           4       136            9   \n",
       "46605             101          26           4       206            9   \n",
       "46607             167          26           4        86            9   \n",
       "\n",
       "       Number of week  \n",
       "2                4044  \n",
       "8                2024  \n",
       "11               4044  \n",
       "12               4044  \n",
       "13               5052  \n",
       "...               ...  \n",
       "46599            2024  \n",
       "46603            5052  \n",
       "46604             812  \n",
       "46605            4044  \n",
       "46607            4044  \n",
       "\n",
       "[23862 rows x 13 columns]"
      ]
     },
     "execution_count": 26,
     "metadata": {},
     "output_type": "execute_result"
    }
   ],
   "source": [
    "df1"
   ]
  },
  {
   "cell_type": "code",
   "execution_count": null,
   "id": "fe217c52",
   "metadata": {},
   "outputs": [],
   "source": []
  },
  {
   "cell_type": "code",
   "execution_count": 27,
   "id": "d315b059",
   "metadata": {},
   "outputs": [
    {
     "data": {
      "text/plain": [
       "array([4.044e+03, 5.052e+03, 0.000e+00, 1.000e+00, 2.000e+00, 5.100e+01,\n",
       "       4.451e+03, 3.000e+00, 6.100e+01])"
      ]
     },
     "execution_count": 27,
     "metadata": {},
     "output_type": "execute_result"
    }
   ],
   "source": [
    "df2['Number of year'].unique()"
   ]
  },
  {
   "cell_type": "code",
   "execution_count": 28,
   "id": "bb8071aa",
   "metadata": {},
   "outputs": [],
   "source": [
    "df2['Number of year'].mask(df2['Number of year'] > 4, 1, inplace=True)"
   ]
  },
  {
   "cell_type": "code",
   "execution_count": null,
   "id": "4b8171fd",
   "metadata": {},
   "outputs": [],
   "source": []
  },
  {
   "cell_type": "code",
   "execution_count": 29,
   "id": "0447efe7",
   "metadata": {},
   "outputs": [],
   "source": [
    "df1['Number of week']=df1['Number of week'].astype(str)"
   ]
  },
  {
   "cell_type": "code",
   "execution_count": 30,
   "id": "c48fb66e",
   "metadata": {},
   "outputs": [],
   "source": [
    "import re\n",
    "v=[]\n",
    "for i in df1['Number of week']:\n",
    "    x=re.findall('\\d{2}',i)\n",
    "    v.append(x) "
   ]
  },
  {
   "cell_type": "code",
   "execution_count": null,
   "id": "7b51c20b",
   "metadata": {},
   "outputs": [],
   "source": []
  },
  {
   "cell_type": "code",
   "execution_count": 31,
   "id": "a3c41e1a",
   "metadata": {},
   "outputs": [
    {
     "data": {
      "text/plain": [
       "23862"
      ]
     },
     "execution_count": 31,
     "metadata": {},
     "output_type": "execute_result"
    }
   ],
   "source": [
    "l=[]\n",
    "for i in v:\n",
    "    if len(i)==2:\n",
    "        a,b=i\n",
    "        l.append(a)\n",
    "    else:\n",
    "        l.append(i)\n",
    "len(l)"
   ]
  },
  {
   "cell_type": "code",
   "execution_count": 32,
   "id": "f0974756",
   "metadata": {},
   "outputs": [
    {
     "data": {
      "text/plain": [
       "23862"
      ]
     },
     "execution_count": 32,
     "metadata": {},
     "output_type": "execute_result"
    }
   ],
   "source": [
    "ll=[]\n",
    "for i in l:\n",
    "    if type(i)==list:\n",
    "        if len(i)>0:\n",
    "            for j in i:\n",
    "                ll.append(j)\n",
    "        else:\n",
    "            ll.append(i)\n",
    "    else:\n",
    "        ll.append(i)\n",
    "    \n",
    "len(ll)        "
   ]
  },
  {
   "cell_type": "code",
   "execution_count": 33,
   "id": "ad3ad1ee",
   "metadata": {},
   "outputs": [],
   "source": [
    "ll=pd.DataFrame(ll)"
   ]
  },
  {
   "cell_type": "code",
   "execution_count": 34,
   "id": "9addceb7",
   "metadata": {},
   "outputs": [
    {
     "name": "stdout",
     "output_type": "stream",
     "text": [
      "<class 'pandas.core.frame.DataFrame'>\n",
      "Int64Index: 23862 entries, 2 to 46607\n",
      "Data columns (total 13 columns):\n",
      " #   Column          Non-Null Count  Dtype  \n",
      "---  ------          --------------  -----  \n",
      " 0   Unnamed: 0      23862 non-null  int64  \n",
      " 1   Agent_id        23862 non-null  int32  \n",
      " 2   status          23638 non-null  float64\n",
      " 3   budget          23836 non-null  object \n",
      " 4   lease           23862 non-null  object \n",
      " 5   source          23862 non-null  int32  \n",
      " 6   source_city     23862 non-null  int32  \n",
      " 7   source_country  23862 non-null  int32  \n",
      " 8   utm_source      23862 non-null  int32  \n",
      " 9   utm_medium      23862 non-null  int32  \n",
      " 10  des_city        23862 non-null  int32  \n",
      " 11  des_country     23862 non-null  int32  \n",
      " 12  Number of week  23862 non-null  object \n",
      "dtypes: float64(1), int32(8), int64(1), object(3)\n",
      "memory usage: 1.8+ MB\n"
     ]
    }
   ],
   "source": [
    "df1.info()"
   ]
  },
  {
   "cell_type": "code",
   "execution_count": 35,
   "id": "47c6a723",
   "metadata": {},
   "outputs": [],
   "source": [
    "df1['Weeks']=ll[0].values\n",
    "df1['Weeks']=pd.to_numeric(df1['Weeks'])"
   ]
  },
  {
   "cell_type": "code",
   "execution_count": 36,
   "id": "4ddfdcf0",
   "metadata": {},
   "outputs": [],
   "source": [
    "n=[]\n",
    "for i in df1['Weeks']:\n",
    "    if type(i)==str:\n",
    "        i=i.astype(int)\n",
    "        print(type(i))"
   ]
  },
  {
   "cell_type": "code",
   "execution_count": 37,
   "id": "173b75d2",
   "metadata": {},
   "outputs": [],
   "source": [
    "df1['Weeks'].unique()\n",
    "df1['Weeks']=df1['Weeks'].fillna(0)"
   ]
  },
  {
   "cell_type": "code",
   "execution_count": 38,
   "id": "d7c834a8",
   "metadata": {},
   "outputs": [
    {
     "data": {
      "text/plain": [
       "array([40., 20., 50., 51., 81., 52., 44., 15.,  0., 45., 48., 10., 24.,\n",
       "       12., 16., 14., 41., 42., 35., 56., 30., 34., 38., 23., 36., 17.,\n",
       "       25., 46., 43., 62., 53., 19., 39., 13., 22., 33.])"
      ]
     },
     "execution_count": 38,
     "metadata": {},
     "output_type": "execute_result"
    }
   ],
   "source": [
    "df1['Weeks'].unique()"
   ]
  },
  {
   "cell_type": "code",
   "execution_count": 39,
   "id": "4097fac8",
   "metadata": {},
   "outputs": [],
   "source": [
    "df1['Weeks']=df1['Weeks'].astype(int)"
   ]
  },
  {
   "cell_type": "code",
   "execution_count": 40,
   "id": "39be0503",
   "metadata": {},
   "outputs": [
    {
     "name": "stdout",
     "output_type": "stream",
     "text": [
      "<class 'pandas.core.frame.DataFrame'>\n",
      "Int64Index: 23862 entries, 2 to 46607\n",
      "Data columns (total 14 columns):\n",
      " #   Column          Non-Null Count  Dtype  \n",
      "---  ------          --------------  -----  \n",
      " 0   Unnamed: 0      23862 non-null  int64  \n",
      " 1   Agent_id        23862 non-null  int32  \n",
      " 2   status          23638 non-null  float64\n",
      " 3   budget          23836 non-null  object \n",
      " 4   lease           23862 non-null  object \n",
      " 5   source          23862 non-null  int32  \n",
      " 6   source_city     23862 non-null  int32  \n",
      " 7   source_country  23862 non-null  int32  \n",
      " 8   utm_source      23862 non-null  int32  \n",
      " 9   utm_medium      23862 non-null  int32  \n",
      " 10  des_city        23862 non-null  int32  \n",
      " 11  des_country     23862 non-null  int32  \n",
      " 12  Number of week  23862 non-null  object \n",
      " 13  Weeks           23862 non-null  int32  \n",
      "dtypes: float64(1), int32(9), int64(1), object(3)\n",
      "memory usage: 1.9+ MB\n"
     ]
    }
   ],
   "source": [
    "df1.info()"
   ]
  },
  {
   "cell_type": "code",
   "execution_count": 41,
   "id": "b0183b70",
   "metadata": {},
   "outputs": [],
   "source": [
    "main_df=pd.concat([df1,df2,df3,df4])"
   ]
  },
  {
   "cell_type": "code",
   "execution_count": 42,
   "id": "8e2e0bf4",
   "metadata": {},
   "outputs": [],
   "source": [
    "main_df.fillna(0,inplace=True)"
   ]
  },
  {
   "cell_type": "code",
   "execution_count": 43,
   "id": "38d6f0d1",
   "metadata": {},
   "outputs": [
    {
     "name": "stdout",
     "output_type": "stream",
     "text": [
      "<class 'pandas.core.frame.DataFrame'>\n",
      "Int64Index: 42827 entries, 2 to 46606\n",
      "Data columns (total 16 columns):\n",
      " #   Column           Non-Null Count  Dtype  \n",
      "---  ------           --------------  -----  \n",
      " 0   Unnamed: 0       42827 non-null  int64  \n",
      " 1   Agent_id         42827 non-null  int32  \n",
      " 2   status           42827 non-null  float64\n",
      " 3   budget           42827 non-null  object \n",
      " 4   lease            42827 non-null  object \n",
      " 5   source           42827 non-null  int32  \n",
      " 6   source_city      42827 non-null  int32  \n",
      " 7   source_country   42827 non-null  int32  \n",
      " 8   utm_source       42827 non-null  int32  \n",
      " 9   utm_medium       42827 non-null  int32  \n",
      " 10  des_city         42827 non-null  int32  \n",
      " 11  des_country      42827 non-null  int32  \n",
      " 12  Number of week   42827 non-null  object \n",
      " 13  Weeks            42827 non-null  float64\n",
      " 14  Number of year   42827 non-null  float64\n",
      " 15  Number of month  42827 non-null  float64\n",
      "dtypes: float64(4), int32(8), int64(1), object(3)\n",
      "memory usage: 4.2+ MB\n"
     ]
    }
   ],
   "source": [
    "main_df.info()"
   ]
  },
  {
   "cell_type": "code",
   "execution_count": 44,
   "id": "370992b8",
   "metadata": {},
   "outputs": [
    {
     "name": "stderr",
     "output_type": "stream",
     "text": [
      "C:\\Users\\User\\AppData\\Local\\Temp\\ipykernel_2964\\58359773.py:1: FutureWarning: The default value of numeric_only in DataFrame.corr is deprecated. In a future version, it will default to False. Select only valid columns or specify the value of numeric_only to silence this warning.\n",
      "  sns.heatmap(df.corr())\n"
     ]
    },
    {
     "data": {
      "text/plain": [
       "<AxesSubplot: >"
      ]
     },
     "execution_count": 44,
     "metadata": {},
     "output_type": "execute_result"
    },
    {
     "data": {
      "image/png": "[encoded data removed]",
      "text/plain": [
       "<Figure size 640x480 with 2 Axes>"
      ]
     },
     "metadata": {},
     "output_type": "display_data"
    }
   ],
   "source": [
    "sns.heatmap(df.corr())"
   ]
  },
  {
   "cell_type": "code",
   "execution_count": 45,
   "id": "63f8c684",
   "metadata": {},
   "outputs": [],
   "source": [
    "main_df.drop(['lease'],axis=1,inplace=True)"
   ]
  },
  {
   "cell_type": "code",
   "execution_count": 46,
   "id": "da17e122",
   "metadata": {},
   "outputs": [],
   "source": [
    "main_df['Number of year']=main_df['Number of year'].astype(int)\n",
    "main_df['Number of month']=main_df['Number of month'].astype(int)\n",
    "main_df['Number of month']=main_df['Number of month'].astype(int)\n",
    "main_df['status']=main_df['status'].astype(int)"
   ]
  },
  {
   "cell_type": "code",
   "execution_count": 47,
   "id": "6a27f378",
   "metadata": {},
   "outputs": [
    {
     "data": {
      "text/html": [
       "<div>\n",
       "<style scoped>\n",
       "    .dataframe tbody tr th:only-of-type {\n",
       "        vertical-align: middle;\n",
       "    }\n",
       "\n",
       "    .dataframe tbody tr th {\n",
       "        vertical-align: top;\n",
       "    }\n",
       "\n",
       "    .dataframe thead th {\n",
       "        text-align: right;\n",
       "    }\n",
       "</style>\n",
       "<table border=\"1\" class=\"dataframe\">\n",
       "  <thead>\n",
       "    <tr style=\"text-align: right;\">\n",
       "      <th></th>\n",
       "      <th>Unnamed: 0</th>\n",
       "      <th>Agent_id</th>\n",
       "      <th>status</th>\n",
       "      <th>budget</th>\n",
       "      <th>source</th>\n",
       "      <th>source_city</th>\n",
       "      <th>source_country</th>\n",
       "      <th>utm_source</th>\n",
       "      <th>utm_medium</th>\n",
       "      <th>des_city</th>\n",
       "      <th>des_country</th>\n",
       "      <th>Number of week</th>\n",
       "      <th>Weeks</th>\n",
       "      <th>Number of year</th>\n",
       "      <th>Number of month</th>\n",
       "    </tr>\n",
       "  </thead>\n",
       "  <tbody>\n",
       "    <tr>\n",
       "      <th>2</th>\n",
       "      <td>2</td>\n",
       "      <td>87</td>\n",
       "      <td>0</td>\n",
       "      <td>£121 - £180 Per Week</td>\n",
       "      <td>344</td>\n",
       "      <td>2630</td>\n",
       "      <td>167</td>\n",
       "      <td>26</td>\n",
       "      <td>4</td>\n",
       "      <td>19</td>\n",
       "      <td>9</td>\n",
       "      <td>4044</td>\n",
       "      <td>40.0</td>\n",
       "      <td>0</td>\n",
       "      <td>0</td>\n",
       "    </tr>\n",
       "    <tr>\n",
       "      <th>8</th>\n",
       "      <td>8</td>\n",
       "      <td>75</td>\n",
       "      <td>0</td>\n",
       "      <td>100</td>\n",
       "      <td>378</td>\n",
       "      <td>1360</td>\n",
       "      <td>101</td>\n",
       "      <td>26</td>\n",
       "      <td>4</td>\n",
       "      <td>75</td>\n",
       "      <td>9</td>\n",
       "      <td>2024</td>\n",
       "      <td>20.0</td>\n",
       "      <td>0</td>\n",
       "      <td>0</td>\n",
       "    </tr>\n",
       "    <tr>\n",
       "      <th>11</th>\n",
       "      <td>11</td>\n",
       "      <td>98</td>\n",
       "      <td>0</td>\n",
       "      <td>£121 - £180 Per Week</td>\n",
       "      <td>344</td>\n",
       "      <td>527</td>\n",
       "      <td>167</td>\n",
       "      <td>26</td>\n",
       "      <td>4</td>\n",
       "      <td>19</td>\n",
       "      <td>9</td>\n",
       "      <td>4044</td>\n",
       "      <td>40.0</td>\n",
       "      <td>0</td>\n",
       "      <td>0</td>\n",
       "    </tr>\n",
       "    <tr>\n",
       "      <th>12</th>\n",
       "      <td>12</td>\n",
       "      <td>27</td>\n",
       "      <td>0</td>\n",
       "      <td>£121 - £180 Per Week</td>\n",
       "      <td>344</td>\n",
       "      <td>3026</td>\n",
       "      <td>167</td>\n",
       "      <td>26</td>\n",
       "      <td>4</td>\n",
       "      <td>118</td>\n",
       "      <td>9</td>\n",
       "      <td>4044</td>\n",
       "      <td>40.0</td>\n",
       "      <td>0</td>\n",
       "      <td>0</td>\n",
       "    </tr>\n",
       "    <tr>\n",
       "      <th>13</th>\n",
       "      <td>13</td>\n",
       "      <td>37</td>\n",
       "      <td>0</td>\n",
       "      <td>£181 - £240 Per Week</td>\n",
       "      <td>344</td>\n",
       "      <td>2470</td>\n",
       "      <td>167</td>\n",
       "      <td>26</td>\n",
       "      <td>4</td>\n",
       "      <td>115</td>\n",
       "      <td>9</td>\n",
       "      <td>5052</td>\n",
       "      <td>50.0</td>\n",
       "      <td>0</td>\n",
       "      <td>0</td>\n",
       "    </tr>\n",
       "    <tr>\n",
       "      <th>...</th>\n",
       "      <td>...</td>\n",
       "      <td>...</td>\n",
       "      <td>...</td>\n",
       "      <td>...</td>\n",
       "      <td>...</td>\n",
       "      <td>...</td>\n",
       "      <td>...</td>\n",
       "      <td>...</td>\n",
       "      <td>...</td>\n",
       "      <td>...</td>\n",
       "      <td>...</td>\n",
       "      <td>...</td>\n",
       "      <td>...</td>\n",
       "      <td>...</td>\n",
       "      <td>...</td>\n",
       "    </tr>\n",
       "    <tr>\n",
       "      <th>45587</th>\n",
       "      <td>45587</td>\n",
       "      <td>40</td>\n",
       "      <td>0</td>\n",
       "      <td>1590</td>\n",
       "      <td>579</td>\n",
       "      <td>1137</td>\n",
       "      <td>91</td>\n",
       "      <td>26</td>\n",
       "      <td>4</td>\n",
       "      <td>206</td>\n",
       "      <td>9</td>\n",
       "      <td>0</td>\n",
       "      <td>0.0</td>\n",
       "      <td>0</td>\n",
       "      <td>0</td>\n",
       "    </tr>\n",
       "    <tr>\n",
       "      <th>46278</th>\n",
       "      <td>46278</td>\n",
       "      <td>15</td>\n",
       "      <td>0</td>\n",
       "      <td>1080</td>\n",
       "      <td>433</td>\n",
       "      <td>563</td>\n",
       "      <td>29</td>\n",
       "      <td>26</td>\n",
       "      <td>4</td>\n",
       "      <td>206</td>\n",
       "      <td>9</td>\n",
       "      <td>0</td>\n",
       "      <td>0.0</td>\n",
       "      <td>0</td>\n",
       "      <td>0</td>\n",
       "    </tr>\n",
       "    <tr>\n",
       "      <th>46537</th>\n",
       "      <td>46537</td>\n",
       "      <td>7</td>\n",
       "      <td>0</td>\n",
       "      <td>1257</td>\n",
       "      <td>433</td>\n",
       "      <td>2134</td>\n",
       "      <td>101</td>\n",
       "      <td>26</td>\n",
       "      <td>33</td>\n",
       "      <td>206</td>\n",
       "      <td>9</td>\n",
       "      <td>0</td>\n",
       "      <td>0.0</td>\n",
       "      <td>0</td>\n",
       "      <td>0</td>\n",
       "    </tr>\n",
       "    <tr>\n",
       "      <th>46578</th>\n",
       "      <td>46578</td>\n",
       "      <td>20</td>\n",
       "      <td>0</td>\n",
       "      <td>1080</td>\n",
       "      <td>433</td>\n",
       "      <td>2308</td>\n",
       "      <td>167</td>\n",
       "      <td>26</td>\n",
       "      <td>33</td>\n",
       "      <td>206</td>\n",
       "      <td>9</td>\n",
       "      <td>0</td>\n",
       "      <td>0.0</td>\n",
       "      <td>0</td>\n",
       "      <td>0</td>\n",
       "    </tr>\n",
       "    <tr>\n",
       "      <th>46606</th>\n",
       "      <td>46606</td>\n",
       "      <td>60</td>\n",
       "      <td>0</td>\n",
       "      <td>1108</td>\n",
       "      <td>579</td>\n",
       "      <td>3961</td>\n",
       "      <td>135</td>\n",
       "      <td>20</td>\n",
       "      <td>50</td>\n",
       "      <td>206</td>\n",
       "      <td>9</td>\n",
       "      <td>0</td>\n",
       "      <td>0.0</td>\n",
       "      <td>0</td>\n",
       "      <td>0</td>\n",
       "    </tr>\n",
       "  </tbody>\n",
       "</table>\n",
       "<p>42827 rows × 15 columns</p>\n",
       "</div>"
      ],
      "text/plain": [
       "       Unnamed: 0  Agent_id  status                budget  source  \\\n",
       "2               2        87       0  £121 - £180 Per Week     344   \n",
       "8               8        75       0                   100     378   \n",
       "11             11        98       0  £121 - £180 Per Week     344   \n",
       "12             12        27       0  £121 - £180 Per Week     344   \n",
       "13             13        37       0  £181 - £240 Per Week     344   \n",
       "...           ...       ...     ...                   ...     ...   \n",
       "45587       45587        40       0                  1590     579   \n",
       "46278       46278        15       0                  1080     433   \n",
       "46537       46537         7       0                  1257     433   \n",
       "46578       46578        20       0                  1080     433   \n",
       "46606       46606        60       0                  1108     579   \n",
       "\n",
       "       source_city  source_country  utm_source  utm_medium  des_city  \\\n",
       "2             2630             167          26           4        19   \n",
       "8             1360             101          26           4        75   \n",
       "11             527             167          26           4        19   \n",
       "12            3026             167          26           4       118   \n",
       "13            2470             167          26           4       115   \n",
       "...            ...             ...         ...         ...       ...   \n",
       "45587         1137              91          26           4       206   \n",
       "46278          563              29          26           4       206   \n",
       "46537         2134             101          26          33       206   \n",
       "46578         2308             167          26          33       206   \n",
       "46606         3961             135          20          50       206   \n",
       "\n",
       "       des_country Number of week  Weeks  Number of year  Number of month  \n",
       "2                9           4044   40.0               0                0  \n",
       "8                9           2024   20.0               0                0  \n",
       "11               9           4044   40.0               0                0  \n",
       "12               9           4044   40.0               0                0  \n",
       "13               9           5052   50.0               0                0  \n",
       "...            ...            ...    ...             ...              ...  \n",
       "45587            9              0    0.0               0                0  \n",
       "46278            9              0    0.0               0                0  \n",
       "46537            9              0    0.0               0                0  \n",
       "46578            9              0    0.0               0                0  \n",
       "46606            9              0    0.0               0                0  \n",
       "\n",
       "[42827 rows x 15 columns]"
      ]
     },
     "execution_count": 47,
     "metadata": {},
     "output_type": "execute_result"
    }
   ],
   "source": [
    "main_df"
   ]
  },
  {
   "cell_type": "code",
   "execution_count": 48,
   "id": "6c2c3e3e",
   "metadata": {},
   "outputs": [],
   "source": [
    "main_df['B']=main_df['budget'].str.split('-').str[0]\n",
    "main_df['Budget']=main_df['budget'].str.split('£').str[1]"
   ]
  },
  {
   "cell_type": "code",
   "execution_count": 49,
   "id": "8aeef1e5",
   "metadata": {},
   "outputs": [],
   "source": [
    "main_df['Budget'].fillna(0,inplace=True)"
   ]
  },
  {
   "cell_type": "code",
   "execution_count": 50,
   "id": "008c8103",
   "metadata": {},
   "outputs": [],
   "source": [
    "main_df.drop(['B','budget','Unnamed: 0'],inplace=True,axis=1)"
   ]
  },
  {
   "cell_type": "code",
   "execution_count": 51,
   "id": "b188c82f",
   "metadata": {},
   "outputs": [
    {
     "name": "stdout",
     "output_type": "stream",
     "text": [
      "<class 'pandas.core.frame.DataFrame'>\n",
      "Int64Index: 42827 entries, 2 to 46606\n",
      "Data columns (total 14 columns):\n",
      " #   Column           Non-Null Count  Dtype  \n",
      "---  ------           --------------  -----  \n",
      " 0   Agent_id         42827 non-null  int32  \n",
      " 1   status           42827 non-null  int32  \n",
      " 2   source           42827 non-null  int32  \n",
      " 3   source_city      42827 non-null  int32  \n",
      " 4   source_country   42827 non-null  int32  \n",
      " 5   utm_source       42827 non-null  int32  \n",
      " 6   utm_medium       42827 non-null  int32  \n",
      " 7   des_city         42827 non-null  int32  \n",
      " 8   des_country      42827 non-null  int32  \n",
      " 9   Number of week   42827 non-null  object \n",
      " 10  Weeks            42827 non-null  float64\n",
      " 11  Number of year   42827 non-null  int32  \n",
      " 12  Number of month  42827 non-null  int32  \n",
      " 13  Budget           42827 non-null  object \n",
      "dtypes: float64(1), int32(11), object(2)\n",
      "memory usage: 3.1+ MB\n"
     ]
    }
   ],
   "source": [
    "main_df.info()"
   ]
  },
  {
   "cell_type": "code",
   "execution_count": 52,
   "id": "086fe342",
   "metadata": {},
   "outputs": [],
   "source": [
    "from sklearn.preprocessing import StandardScaler\n",
    "from sklearn.ensemble import RandomForestClassifier\n",
    "from sklearn.model_selection import train_test_split\n",
    "sc=StandardScaler()\n",
    "reg=RandomForestClassifier()"
   ]
  },
  {
   "cell_type": "code",
   "execution_count": 53,
   "id": "c9909644",
   "metadata": {},
   "outputs": [
    {
     "data": {
      "text/plain": [
       "Index(['Agent_id', 'status', 'source', 'source_city', 'source_country',\n",
       "       'utm_source', 'utm_medium', 'des_city', 'des_country', 'Number of week',\n",
       "       'Weeks', 'Number of year', 'Number of month', 'Budget'],\n",
       "      dtype='object')"
      ]
     },
     "execution_count": 53,
     "metadata": {},
     "output_type": "execute_result"
    }
   ],
   "source": [
    "main_df.columns"
   ]
  },
  {
   "cell_type": "code",
   "execution_count": 75,
   "id": "bfda4fc7",
   "metadata": {},
   "outputs": [],
   "source": [
    "x=main_df.loc[:,['Agent_id', 'source', 'source_city','source_country', 'utm_source', \n",
    "                 'utm_medium', 'des_city', 'des_country', 'Number of year', 'Number of month','Weeks']]"
   ]
  },
  {
   "cell_type": "code",
   "execution_count": 76,
   "id": "ffbbbe5f",
   "metadata": {},
   "outputs": [],
   "source": [
    "y=main_df.loc[:,['status']]"
   ]
  },
  {
   "cell_type": "code",
   "execution_count": 77,
   "id": "22cfd250",
   "metadata": {},
   "outputs": [
    {
     "data": {
      "text/plain": [
       "array(['121 - ', 0, '181 - ', '60 - ', '180 Per week', ' Per Week',\n",
       "       '241 - ', '150 Per Week', '175/Per Week', '50 Per Week',\n",
       "       '250 Per Week', '115 Per week', '100- ', '250 Per week',\n",
       "       '130Per Week', '100-150 Per week', '200 Per Week', '120 Per Week',\n",
       "       '150Per Week', '160 - ', '100 Per week', '210 Per week',\n",
       "       '155 Per week', '120 Per week', '160 Per Week', '300 Per week',\n",
       "       '100Per week', '700-750 Per month', '155- ', '200-350',\n",
       "       '254 Per Week', '200 - ', '98-120/week', '165 Per Week', '175',\n",
       "       '90 - ', '225 Per Week', '125 - ', '100', '120-130 Per week',\n",
       "       '121  Per Week', '100 - ', '100/week', '140  Per Week',\n",
       "       '150 Per week', '170 Per week', '120-160 Per Week', '',\n",
       "       '350 Per week', '110 Per Week', '180 - ', '220 Per Week',\n",
       "       '210/week', '250-260Per Week', '250-300 Per week', '220/week',\n",
       "       '800 Per Week', '160 Per week', '250-300 Per Week', '140 Per week',\n",
       "       '130-150 Per week', '130 - ', '120 - ', '250/month Per week',\n",
       "       '150-170 Per Week', '80 Per week', '140-150 Per Week',\n",
       "       '280 Per Week', '300 Per Week', '120-130Per week', '145 Per Week',\n",
       "       '156 Per week', '180 Per Week', '190 Per Week', '150-180 Per Week',\n",
       "       '110 Per week', '240 Per Week', '60 - 200', '1500 Per Week',\n",
       "       '130 Per week', '340 Per week', '500 Per month', '600 Per monthly',\n",
       "       '200-', '450 Per month', '175 Per Week', '87 Per week',\n",
       "       '130 Per Week', '350 month', '135 Per week', '90', '140',\n",
       "       '200 Per week', '100—170', '400 - 450 Per week', '84', '600'],\n",
       "      dtype=object)"
      ]
     },
     "execution_count": 77,
     "metadata": {},
     "output_type": "execute_result"
    }
   ],
   "source": [
    "main_df['Budget'].unique()"
   ]
  },
  {
   "cell_type": "code",
   "execution_count": 78,
   "id": "2144d77f",
   "metadata": {},
   "outputs": [
    {
     "name": "stdout",
     "output_type": "stream",
     "text": [
      "(42827, 10)\n",
      "(42827, 1)\n"
     ]
    }
   ],
   "source": [
    "print(x.shape)\n",
    "print(y.shape)"
   ]
  },
  {
   "cell_type": "code",
   "execution_count": 79,
   "id": "43dd43a6",
   "metadata": {},
   "outputs": [
    {
     "name": "stdout",
     "output_type": "stream",
     "text": [
      "<class 'pandas.core.frame.DataFrame'>\n",
      "Int64Index: 42827 entries, 2 to 46606\n",
      "Data columns (total 10 columns):\n",
      " #   Column           Non-Null Count  Dtype  \n",
      "---  ------           --------------  -----  \n",
      " 0   Agent_id         42827 non-null  int32  \n",
      " 1   source_city      42827 non-null  int32  \n",
      " 2   source_country   42827 non-null  int32  \n",
      " 3   utm_source       42827 non-null  int32  \n",
      " 4   utm_medium       42827 non-null  int32  \n",
      " 5   des_city         42827 non-null  int32  \n",
      " 6   des_country      42827 non-null  int32  \n",
      " 7   Number of year   42827 non-null  int32  \n",
      " 8   Number of month  42827 non-null  int32  \n",
      " 9   Weeks            42827 non-null  float64\n",
      "dtypes: float64(1), int32(9)\n",
      "memory usage: 2.1 MB\n"
     ]
    }
   ],
   "source": [
    "x.info()"
   ]
  },
  {
   "cell_type": "code",
   "execution_count": 80,
   "id": "9ddc4190",
   "metadata": {},
   "outputs": [],
   "source": [
    "x_train, x_test, y_train, y_test = train_test_split(x, y, test_size=0.33, random_state=42)"
   ]
  },
  {
   "cell_type": "code",
   "execution_count": 81,
   "id": "a06e14b9",
   "metadata": {},
   "outputs": [
    {
     "name": "stderr",
     "output_type": "stream",
     "text": [
      "C:\\Users\\User\\AppData\\Local\\Temp\\ipykernel_2964\\3167646969.py:1: DataConversionWarning: A column-vector y was passed when a 1d array was expected. Please change the shape of y to (n_samples,), for example using ravel().\n",
      "  reg=reg.fit(x_train,y_train)\n"
     ]
    }
   ],
   "source": [
    "reg=reg.fit(x_train,y_train)"
   ]
  },
  {
   "cell_type": "code",
   "execution_count": 82,
   "id": "83b9480d",
   "metadata": {},
   "outputs": [
    {
     "data": {
      "text/plain": [
       "0.9292436142361848"
      ]
     },
     "execution_count": 82,
     "metadata": {},
     "output_type": "execute_result"
    }
   ],
   "source": [
    "reg.score(x_test,y_test)"
   ]
  },
  {
   "cell_type": "code",
   "execution_count": 83,
   "id": "b2d0fddd",
   "metadata": {},
   "outputs": [],
   "source": [
    "from sklearn.linear_model import LogisticRegression\n",
    "lgr=LogisticRegression()"
   ]
  },
  {
   "cell_type": "code",
   "execution_count": 84,
   "id": "84923a2b",
   "metadata": {},
   "outputs": [
    {
     "name": "stderr",
     "output_type": "stream",
     "text": [
      "C:\\Users\\User\\AppData\\Roaming\\Python\\Python310\\site-packages\\sklearn\\utils\\validation.py:1141: DataConversionWarning: A column-vector y was passed when a 1d array was expected. Please change the shape of y to (n_samples, ), for example using ravel().\n",
      "  y = column_or_1d(y, warn=True)\n",
      "C:\\Users\\User\\AppData\\Roaming\\Python\\Python310\\site-packages\\sklearn\\linear_model\\_logistic.py:458: ConvergenceWarning: lbfgs failed to converge (status=1):\n",
      "STOP: TOTAL NO. of ITERATIONS REACHED LIMIT.\n",
      "\n",
      "Increase the number of iterations (max_iter) or scale the data as shown in:\n",
      "    https://scikit-learn.org/stable/modules/preprocessing.html\n",
      "Please also refer to the documentation for alternative solver options:\n",
      "    https://scikit-learn.org/stable/modules/linear_model.html#logistic-regression\n",
      "  n_iter_i = _check_optimize_result(\n"
     ]
    },
    {
     "data": {
      "text/plain": [
       "0.9379466496851341"
      ]
     },
     "execution_count": 84,
     "metadata": {},
     "output_type": "execute_result"
    }
   ],
   "source": [
    "lgr=lgr.fit(x_train,y_train)\n",
    "lgr.score(x_test,y_test)"
   ]
  },
  {
   "cell_type": "code",
   "execution_count": 85,
   "id": "6d10845a",
   "metadata": {},
   "outputs": [
    {
     "data": {
      "image/png": "[encoded data removed]",
      "text/plain": [
       "<Figure size 1200x800 with 1 Axes>"
      ]
     },
     "metadata": {},
     "output_type": "display_data"
    }
   ],
   "source": [
    "# From this graph we observe how much features are important for the loss or win of lead\n",
    "plt.figure(figsize=(12,8))\n",
    "feat_importances=pd.Series(reg.feature_importances_,index=x.columns)\n",
    "feat_importances.nlargest(20).plot(kind='barh')\n",
    "plt.show()"
   ]
  },
  {
   "cell_type": "code",
   "execution_count": 86,
   "id": "db307e30",
   "metadata": {},
   "outputs": [
    {
     "data": {
      "text/plain": [
       "array([[0.93, 0.07],\n",
       "       [0.95, 0.05],\n",
       "       [0.97, 0.03],\n",
       "       ...,\n",
       "       [1.  , 0.  ],\n",
       "       [1.  , 0.  ],\n",
       "       [0.8 , 0.2 ]])"
      ]
     },
     "execution_count": 86,
     "metadata": {},
     "output_type": "execute_result"
    }
   ],
   "source": [
    "m=reg.predict_proba(x)\n",
    "m"
   ]
  },
  {
   "cell_type": "code",
   "execution_count": 87,
   "id": "2cec536a",
   "metadata": {},
   "outputs": [],
   "source": [
    "m=pd.DataFrame(m)"
   ]
  },
  {
   "cell_type": "code",
   "execution_count": 88,
   "id": "fd95a07b",
   "metadata": {},
   "outputs": [],
   "source": [
    "main_df['Chance_of_conversion']=m[0].values"
   ]
  },
  {
   "cell_type": "code",
   "execution_count": 89,
   "id": "e3b331fd",
   "metadata": {},
   "outputs": [],
   "source": [
    "main_df['Chance_of_conversion']=main_df['Chance_of_conversion']*100"
   ]
  },
  {
   "cell_type": "code",
   "execution_count": 90,
   "id": "0d0cccf4",
   "metadata": {},
   "outputs": [
    {
     "data": {
      "text/html": [
       "<div>\n",
       "<style scoped>\n",
       "    .dataframe tbody tr th:only-of-type {\n",
       "        vertical-align: middle;\n",
       "    }\n",
       "\n",
       "    .dataframe tbody tr th {\n",
       "        vertical-align: top;\n",
       "    }\n",
       "\n",
       "    .dataframe thead th {\n",
       "        text-align: right;\n",
       "    }\n",
       "</style>\n",
       "<table border=\"1\" class=\"dataframe\">\n",
       "  <thead>\n",
       "    <tr style=\"text-align: right;\">\n",
       "      <th></th>\n",
       "      <th>Agent_id</th>\n",
       "      <th>status</th>\n",
       "      <th>source</th>\n",
       "      <th>source_city</th>\n",
       "      <th>source_country</th>\n",
       "      <th>utm_source</th>\n",
       "      <th>utm_medium</th>\n",
       "      <th>des_city</th>\n",
       "      <th>des_country</th>\n",
       "      <th>Number of week</th>\n",
       "      <th>Weeks</th>\n",
       "      <th>Number of year</th>\n",
       "      <th>Number of month</th>\n",
       "      <th>Budget</th>\n",
       "      <th>Chance_of_conversion</th>\n",
       "    </tr>\n",
       "  </thead>\n",
       "  <tbody>\n",
       "    <tr>\n",
       "      <th>2</th>\n",
       "      <td>87</td>\n",
       "      <td>0</td>\n",
       "      <td>344</td>\n",
       "      <td>2630</td>\n",
       "      <td>167</td>\n",
       "      <td>26</td>\n",
       "      <td>4</td>\n",
       "      <td>19</td>\n",
       "      <td>9</td>\n",
       "      <td>4044</td>\n",
       "      <td>40.0</td>\n",
       "      <td>0</td>\n",
       "      <td>0</td>\n",
       "      <td>121 -</td>\n",
       "      <td>93.0</td>\n",
       "    </tr>\n",
       "    <tr>\n",
       "      <th>8</th>\n",
       "      <td>75</td>\n",
       "      <td>0</td>\n",
       "      <td>378</td>\n",
       "      <td>1360</td>\n",
       "      <td>101</td>\n",
       "      <td>26</td>\n",
       "      <td>4</td>\n",
       "      <td>75</td>\n",
       "      <td>9</td>\n",
       "      <td>2024</td>\n",
       "      <td>20.0</td>\n",
       "      <td>0</td>\n",
       "      <td>0</td>\n",
       "      <td>0</td>\n",
       "      <td>95.0</td>\n",
       "    </tr>\n",
       "    <tr>\n",
       "      <th>11</th>\n",
       "      <td>98</td>\n",
       "      <td>0</td>\n",
       "      <td>344</td>\n",
       "      <td>527</td>\n",
       "      <td>167</td>\n",
       "      <td>26</td>\n",
       "      <td>4</td>\n",
       "      <td>19</td>\n",
       "      <td>9</td>\n",
       "      <td>4044</td>\n",
       "      <td>40.0</td>\n",
       "      <td>0</td>\n",
       "      <td>0</td>\n",
       "      <td>121 -</td>\n",
       "      <td>97.0</td>\n",
       "    </tr>\n",
       "    <tr>\n",
       "      <th>12</th>\n",
       "      <td>27</td>\n",
       "      <td>0</td>\n",
       "      <td>344</td>\n",
       "      <td>3026</td>\n",
       "      <td>167</td>\n",
       "      <td>26</td>\n",
       "      <td>4</td>\n",
       "      <td>118</td>\n",
       "      <td>9</td>\n",
       "      <td>4044</td>\n",
       "      <td>40.0</td>\n",
       "      <td>0</td>\n",
       "      <td>0</td>\n",
       "      <td>121 -</td>\n",
       "      <td>100.0</td>\n",
       "    </tr>\n",
       "    <tr>\n",
       "      <th>13</th>\n",
       "      <td>37</td>\n",
       "      <td>0</td>\n",
       "      <td>344</td>\n",
       "      <td>2470</td>\n",
       "      <td>167</td>\n",
       "      <td>26</td>\n",
       "      <td>4</td>\n",
       "      <td>115</td>\n",
       "      <td>9</td>\n",
       "      <td>5052</td>\n",
       "      <td>50.0</td>\n",
       "      <td>0</td>\n",
       "      <td>0</td>\n",
       "      <td>181 -</td>\n",
       "      <td>93.0</td>\n",
       "    </tr>\n",
       "    <tr>\n",
       "      <th>...</th>\n",
       "      <td>...</td>\n",
       "      <td>...</td>\n",
       "      <td>...</td>\n",
       "      <td>...</td>\n",
       "      <td>...</td>\n",
       "      <td>...</td>\n",
       "      <td>...</td>\n",
       "      <td>...</td>\n",
       "      <td>...</td>\n",
       "      <td>...</td>\n",
       "      <td>...</td>\n",
       "      <td>...</td>\n",
       "      <td>...</td>\n",
       "      <td>...</td>\n",
       "      <td>...</td>\n",
       "    </tr>\n",
       "    <tr>\n",
       "      <th>45587</th>\n",
       "      <td>40</td>\n",
       "      <td>0</td>\n",
       "      <td>579</td>\n",
       "      <td>1137</td>\n",
       "      <td>91</td>\n",
       "      <td>26</td>\n",
       "      <td>4</td>\n",
       "      <td>206</td>\n",
       "      <td>9</td>\n",
       "      <td>0</td>\n",
       "      <td>0.0</td>\n",
       "      <td>0</td>\n",
       "      <td>0</td>\n",
       "      <td>0</td>\n",
       "      <td>97.0</td>\n",
       "    </tr>\n",
       "    <tr>\n",
       "      <th>46278</th>\n",
       "      <td>15</td>\n",
       "      <td>0</td>\n",
       "      <td>433</td>\n",
       "      <td>563</td>\n",
       "      <td>29</td>\n",
       "      <td>26</td>\n",
       "      <td>4</td>\n",
       "      <td>206</td>\n",
       "      <td>9</td>\n",
       "      <td>0</td>\n",
       "      <td>0.0</td>\n",
       "      <td>0</td>\n",
       "      <td>0</td>\n",
       "      <td>0</td>\n",
       "      <td>100.0</td>\n",
       "    </tr>\n",
       "    <tr>\n",
       "      <th>46537</th>\n",
       "      <td>7</td>\n",
       "      <td>0</td>\n",
       "      <td>433</td>\n",
       "      <td>2134</td>\n",
       "      <td>101</td>\n",
       "      <td>26</td>\n",
       "      <td>33</td>\n",
       "      <td>206</td>\n",
       "      <td>9</td>\n",
       "      <td>0</td>\n",
       "      <td>0.0</td>\n",
       "      <td>0</td>\n",
       "      <td>0</td>\n",
       "      <td>0</td>\n",
       "      <td>100.0</td>\n",
       "    </tr>\n",
       "    <tr>\n",
       "      <th>46578</th>\n",
       "      <td>20</td>\n",
       "      <td>0</td>\n",
       "      <td>433</td>\n",
       "      <td>2308</td>\n",
       "      <td>167</td>\n",
       "      <td>26</td>\n",
       "      <td>33</td>\n",
       "      <td>206</td>\n",
       "      <td>9</td>\n",
       "      <td>0</td>\n",
       "      <td>0.0</td>\n",
       "      <td>0</td>\n",
       "      <td>0</td>\n",
       "      <td>0</td>\n",
       "      <td>100.0</td>\n",
       "    </tr>\n",
       "    <tr>\n",
       "      <th>46606</th>\n",
       "      <td>60</td>\n",
       "      <td>0</td>\n",
       "      <td>579</td>\n",
       "      <td>3961</td>\n",
       "      <td>135</td>\n",
       "      <td>20</td>\n",
       "      <td>50</td>\n",
       "      <td>206</td>\n",
       "      <td>9</td>\n",
       "      <td>0</td>\n",
       "      <td>0.0</td>\n",
       "      <td>0</td>\n",
       "      <td>0</td>\n",
       "      <td>0</td>\n",
       "      <td>80.0</td>\n",
       "    </tr>\n",
       "  </tbody>\n",
       "</table>\n",
       "<p>42827 rows × 15 columns</p>\n",
       "</div>"
      ],
      "text/plain": [
       "       Agent_id  status  source  source_city  source_country  utm_source  \\\n",
       "2            87       0     344         2630             167          26   \n",
       "8            75       0     378         1360             101          26   \n",
       "11           98       0     344          527             167          26   \n",
       "12           27       0     344         3026             167          26   \n",
       "13           37       0     344         2470             167          26   \n",
       "...         ...     ...     ...          ...             ...         ...   \n",
       "45587        40       0     579         1137              91          26   \n",
       "46278        15       0     433          563              29          26   \n",
       "46537         7       0     433         2134             101          26   \n",
       "46578        20       0     433         2308             167          26   \n",
       "46606        60       0     579         3961             135          20   \n",
       "\n",
       "       utm_medium  des_city  des_country Number of week  Weeks  \\\n",
       "2               4        19            9           4044   40.0   \n",
       "8               4        75            9           2024   20.0   \n",
       "11              4        19            9           4044   40.0   \n",
       "12              4       118            9           4044   40.0   \n",
       "13              4       115            9           5052   50.0   \n",
       "...           ...       ...          ...            ...    ...   \n",
       "45587           4       206            9              0    0.0   \n",
       "46278           4       206            9              0    0.0   \n",
       "46537          33       206            9              0    0.0   \n",
       "46578          33       206            9              0    0.0   \n",
       "46606          50       206            9              0    0.0   \n",
       "\n",
       "       Number of year  Number of month  Budget  Chance_of_conversion  \n",
       "2                   0                0  121 -                   93.0  \n",
       "8                   0                0       0                  95.0  \n",
       "11                  0                0  121 -                   97.0  \n",
       "12                  0                0  121 -                  100.0  \n",
       "13                  0                0  181 -                   93.0  \n",
       "...               ...              ...     ...                   ...  \n",
       "45587               0                0       0                  97.0  \n",
       "46278               0                0       0                 100.0  \n",
       "46537               0                0       0                 100.0  \n",
       "46578               0                0       0                 100.0  \n",
       "46606               0                0       0                  80.0  \n",
       "\n",
       "[42827 rows x 15 columns]"
      ]
     },
     "execution_count": 90,
     "metadata": {},
     "output_type": "execute_result"
    }
   ],
   "source": [
    "main_df"
   ]
  },
  {
   "cell_type": "code",
   "execution_count": null,
   "id": "abb9a47f",
   "metadata": {},
   "outputs": [],
   "source": []
  },
  {
   "cell_type": "code",
   "execution_count": null,
   "id": "4c3ddeda",
   "metadata": {},
   "outputs": [],
   "source": []
  }
 ],
 "metadata": {
  "kernelspec": {
   "display_name": "Python 3 (ipykernel)",
   "language": "python",
   "name": "python3"
  },
  "language_info": {
   "codemirror_mode": {
    "name": "ipython",
    "version": 3
   },
   "file_extension": ".py",
   "mimetype": "text/x-python",
   "name": "python",
   "nbconvert_exporter": "python",
   "pygments_lexer": "ipython3",
   "version": "3.10.9"
  }
 },
 "nbformat": 4,
 "nbformat_minor": 5
}
